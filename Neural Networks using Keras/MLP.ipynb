{
  "nbformat": 4,
  "nbformat_minor": 0,
  "metadata": {
    "colab": {
      "name": "SMAI_A3_Q3.ipynb",
      "provenance": [],
      "collapsed_sections": [],
      "toc_visible": true
    },
    "kernelspec": {
      "name": "python3",
      "display_name": "Python 3"
    },
    "language_info": {
      "name": "python"
    }
  },
  "cells": [
    {
      "cell_type": "code",
      "metadata": {
        "id": "NJK4pXzfMZp6"
      },
      "source": [
        "import keras\n",
        "from keras import layers, losses, optimizers, models\n",
        "from keras.datasets import mnist\n",
        "import numpy as np\n",
        "import matplotlib.pyplot as plt"
      ],
      "execution_count": 2,
      "outputs": []
    },
    {
      "cell_type": "markdown",
      "metadata": {
        "id": "RP6pvuhEVy8L"
      },
      "source": [
        "Loading and Normalizing dataset"
      ]
    },
    {
      "cell_type": "code",
      "metadata": {
        "colab": {
          "base_uri": "https://localhost:8080/"
        },
        "id": "bRnnt_1gVv5d",
        "outputId": "089051d4-b436-46ca-9202-1b975e4e81ef"
      },
      "source": [
        "(x_train, ytrain), (x_test, ytest) = mnist.load_data()\n",
        "x_train = x_train.astype('float32') / 255.\n",
        "x_test = x_test.astype('float32') / 255."
      ],
      "execution_count": 3,
      "outputs": [
        {
          "output_type": "stream",
          "text": [
            "Downloading data from https://storage.googleapis.com/tensorflow/tf-keras-datasets/mnist.npz\n",
            "11493376/11490434 [==============================] - 0s 0us/step\n"
          ],
          "name": "stdout"
        }
      ]
    },
    {
      "cell_type": "code",
      "metadata": {
        "colab": {
          "base_uri": "https://localhost:8080/"
        },
        "id": "mMGAgrYMV1cS",
        "outputId": "6989d253-57fb-4582-d95c-e8a8e6b61799"
      },
      "source": [
        "x_train, x_test = x_train.reshape(-1,784), x_test.reshape(-1,784)\n",
        "y_train, y_test = keras.utils.to_categorical(ytrain, num_classes=10), keras.utils.to_categorical(ytest, num_classes=10)\n",
        "\n",
        "x_train.shape, x_test.shape, y_test.shape, y_train.shape"
      ],
      "execution_count": 4,
      "outputs": [
        {
          "output_type": "execute_result",
          "data": {
            "text/plain": [
              "((60000, 784), (10000, 784), (10000, 10), (60000, 10))"
            ]
          },
          "metadata": {
            "tags": []
          },
          "execution_count": 4
        }
      ]
    },
    {
      "cell_type": "markdown",
      "metadata": {
        "id": "_o8ODoi28VKU"
      },
      "source": [
        "# **Part 1**"
      ]
    },
    {
      "cell_type": "code",
      "metadata": {
        "colab": {
          "base_uri": "https://localhost:8080/"
        },
        "id": "VBzknc46W5lb",
        "outputId": "458a28c4-ad20-4dad-fa51-e9a736e92c61"
      },
      "source": [
        "MLP_model = models.Sequential()\n",
        "MLP_model.add(layers.Dense(512, input_shape = (x_train[0].shape), activation='relu'))\n",
        "MLP_model.add(layers.Dropout(0.5))\n",
        "MLP_model.add(layers.Dense(64, activation = 'relu'))\n",
        "MLP_model.add(layers.Dense(10, activation='softmax'))\n",
        "\n",
        "MLP_model.summary()"
      ],
      "execution_count": 18,
      "outputs": [
        {
          "output_type": "stream",
          "text": [
            "Model: \"sequential_5\"\n",
            "_________________________________________________________________\n",
            "Layer (type)                 Output Shape              Param #   \n",
            "=================================================================\n",
            "dense_9 (Dense)              (None, 512)               401920    \n",
            "_________________________________________________________________\n",
            "dropout_3 (Dropout)          (None, 512)               0         \n",
            "_________________________________________________________________\n",
            "dense_10 (Dense)             (None, 64)                32832     \n",
            "_________________________________________________________________\n",
            "dense_11 (Dense)             (None, 10)                650       \n",
            "=================================================================\n",
            "Total params: 435,402\n",
            "Trainable params: 435,402\n",
            "Non-trainable params: 0\n",
            "_________________________________________________________________\n"
          ],
          "name": "stdout"
        }
      ]
    },
    {
      "cell_type": "code",
      "metadata": {
        "colab": {
          "base_uri": "https://localhost:8080/"
        },
        "id": "Ml1r_GthrbQ-",
        "outputId": "0f0f459e-bbae-4d89-a28a-32f80cf68c12"
      },
      "source": [
        "MLP_model.compile(optimizer='adam', loss='categorical_crossentropy', metrics=['accuracy'])\n",
        "\n",
        "history = MLP_model.fit(x_train, y_train, epochs=25, batch_size=256, validation_data=(x_test,y_test))"
      ],
      "execution_count": 19,
      "outputs": [
        {
          "output_type": "stream",
          "text": [
            "Epoch 1/25\n",
            "235/235 [==============================] - 4s 17ms/step - loss: 0.6634 - accuracy: 0.7965 - val_loss: 0.1498 - val_accuracy: 0.9554\n",
            "Epoch 2/25\n",
            "235/235 [==============================] - 4s 17ms/step - loss: 0.1754 - accuracy: 0.9478 - val_loss: 0.1075 - val_accuracy: 0.9675\n",
            "Epoch 3/25\n",
            "235/235 [==============================] - 4s 17ms/step - loss: 0.1277 - accuracy: 0.9615 - val_loss: 0.0876 - val_accuracy: 0.9728\n",
            "Epoch 4/25\n",
            "235/235 [==============================] - 4s 17ms/step - loss: 0.1007 - accuracy: 0.9692 - val_loss: 0.0756 - val_accuracy: 0.9767\n",
            "Epoch 5/25\n",
            "235/235 [==============================] - 4s 17ms/step - loss: 0.0882 - accuracy: 0.9725 - val_loss: 0.0753 - val_accuracy: 0.9753\n",
            "Epoch 6/25\n",
            "235/235 [==============================] - 4s 17ms/step - loss: 0.0744 - accuracy: 0.9764 - val_loss: 0.0663 - val_accuracy: 0.9799\n",
            "Epoch 7/25\n",
            "235/235 [==============================] - 4s 16ms/step - loss: 0.0668 - accuracy: 0.9793 - val_loss: 0.0621 - val_accuracy: 0.9790\n",
            "Epoch 8/25\n",
            "235/235 [==============================] - 4s 17ms/step - loss: 0.0596 - accuracy: 0.9809 - val_loss: 0.0597 - val_accuracy: 0.9804\n",
            "Epoch 9/25\n",
            "235/235 [==============================] - 4s 16ms/step - loss: 0.0545 - accuracy: 0.9825 - val_loss: 0.0671 - val_accuracy: 0.9795\n",
            "Epoch 10/25\n",
            "235/235 [==============================] - 4s 17ms/step - loss: 0.0545 - accuracy: 0.9824 - val_loss: 0.0624 - val_accuracy: 0.9809\n",
            "Epoch 11/25\n",
            "235/235 [==============================] - 4s 17ms/step - loss: 0.0484 - accuracy: 0.9838 - val_loss: 0.0583 - val_accuracy: 0.9828\n",
            "Epoch 12/25\n",
            "235/235 [==============================] - 4s 17ms/step - loss: 0.0443 - accuracy: 0.9858 - val_loss: 0.0556 - val_accuracy: 0.9843\n",
            "Epoch 13/25\n",
            "235/235 [==============================] - 4s 17ms/step - loss: 0.0410 - accuracy: 0.9857 - val_loss: 0.0562 - val_accuracy: 0.9826\n",
            "Epoch 14/25\n",
            "235/235 [==============================] - 4s 17ms/step - loss: 0.0377 - accuracy: 0.9873 - val_loss: 0.0617 - val_accuracy: 0.9832\n",
            "Epoch 15/25\n",
            "235/235 [==============================] - 4s 17ms/step - loss: 0.0345 - accuracy: 0.9882 - val_loss: 0.0607 - val_accuracy: 0.9827\n",
            "Epoch 16/25\n",
            "235/235 [==============================] - 4s 17ms/step - loss: 0.0355 - accuracy: 0.9874 - val_loss: 0.0595 - val_accuracy: 0.9841\n",
            "Epoch 17/25\n",
            "235/235 [==============================] - 4s 17ms/step - loss: 0.0337 - accuracy: 0.9881 - val_loss: 0.0592 - val_accuracy: 0.9844\n",
            "Epoch 18/25\n",
            "235/235 [==============================] - 4s 17ms/step - loss: 0.0334 - accuracy: 0.9897 - val_loss: 0.0623 - val_accuracy: 0.9825\n",
            "Epoch 19/25\n",
            "235/235 [==============================] - 4s 17ms/step - loss: 0.0325 - accuracy: 0.9888 - val_loss: 0.0649 - val_accuracy: 0.9818\n",
            "Epoch 20/25\n",
            "235/235 [==============================] - 4s 17ms/step - loss: 0.0296 - accuracy: 0.9897 - val_loss: 0.0603 - val_accuracy: 0.9837\n",
            "Epoch 21/25\n",
            "235/235 [==============================] - 4s 17ms/step - loss: 0.0280 - accuracy: 0.9907 - val_loss: 0.0621 - val_accuracy: 0.9823\n",
            "Epoch 22/25\n",
            "235/235 [==============================] - 4s 17ms/step - loss: 0.0281 - accuracy: 0.9901 - val_loss: 0.0611 - val_accuracy: 0.9845\n",
            "Epoch 23/25\n",
            "235/235 [==============================] - 4s 17ms/step - loss: 0.0263 - accuracy: 0.9915 - val_loss: 0.0594 - val_accuracy: 0.9851\n",
            "Epoch 24/25\n",
            "235/235 [==============================] - 4s 17ms/step - loss: 0.0248 - accuracy: 0.9915 - val_loss: 0.0595 - val_accuracy: 0.9837\n",
            "Epoch 25/25\n",
            "235/235 [==============================] - 4s 17ms/step - loss: 0.0262 - accuracy: 0.9902 - val_loss: 0.0581 - val_accuracy: 0.9852\n"
          ],
          "name": "stdout"
        }
      ]
    },
    {
      "cell_type": "code",
      "metadata": {
        "colab": {
          "base_uri": "https://localhost:8080/",
          "height": 295
        },
        "id": "kNNIlJAk1U65",
        "outputId": "f27eaffe-49b6-469c-847b-7fe7ec73cac5"
      },
      "source": [
        "plt.plot(history.history['loss'])\n",
        "plt.title('With Adam optimizer')\n",
        "plt.ylabel('Train loss')\n",
        "plt.xlabel('epochs')\n",
        "\n",
        "plt.show()"
      ],
      "execution_count": 25,
      "outputs": [
        {
          "output_type": "display_data",
          "data": {
            "image/png": "[encoded data removed]",
            "text/plain": [
              "<Figure size 432x288 with 1 Axes>"
            ]
          },
          "metadata": {
            "tags": [],
            "needs_background": "light"
          }
        }
      ]
    },
    {
      "cell_type": "code",
      "metadata": {
        "colab": {
          "base_uri": "https://localhost:8080/"
        },
        "id": "qr_SocO32Y-x",
        "outputId": "2c720be2-a2ec-498f-aed5-a5a883534cb5"
      },
      "source": [
        "print(\"Test Accuracy = \",history.history['val_accuracy'][-1])"
      ],
      "execution_count": 28,
      "outputs": [
        {
          "output_type": "stream",
          "text": [
            "Test Accuracy =  0.9851999878883362\n"
          ],
          "name": "stdout"
        }
      ]
    },
    {
      "cell_type": "markdown",
      "metadata": {
        "id": "8spmn7YC0KlB"
      },
      "source": [
        "## **Experimenting with other optimizers**"
      ]
    },
    {
      "cell_type": "markdown",
      "metadata": {
        "id": "S1Hi6xCb0g9T"
      },
      "source": [
        "### RMSProp"
      ]
    },
    {
      "cell_type": "code",
      "metadata": {
        "colab": {
          "base_uri": "https://localhost:8080/"
        },
        "id": "l-27TTZWtZD9",
        "outputId": "0acc9f84-8fc5-45cf-ad7c-6b9554dff6e8"
      },
      "source": [
        "MLP_model_rms = models.Sequential()\n",
        "MLP_model_rms.add(layers.Dense(512, input_shape = (x_train[0].shape), activation='relu'))\n",
        "MLP_model_rms.add(layers.Dropout(0.5))\n",
        "MLP_model_rms.add(layers.Dense(64, activation = 'relu'))\n",
        "MLP_model_rms.add(layers.Dense(10, activation='softmax'))\n",
        "\n",
        "MLP_model_rms.compile(optimizer='RMSprop', loss='categorical_crossentropy', metrics=['accuracy'])\n",
        "\n",
        "history_rms = MLP_model_rms.fit(x_train, y_train, epochs=20, batch_size=256, validation_data=(x_test,y_test))"
      ],
      "execution_count": 20,
      "outputs": [
        {
          "output_type": "stream",
          "text": [
            "Epoch 1/20\n",
            "235/235 [==============================] - 5s 20ms/step - loss: 0.6338 - accuracy: 0.8042 - val_loss: 0.1588 - val_accuracy: 0.9509\n",
            "Epoch 2/20\n",
            "235/235 [==============================] - 4s 19ms/step - loss: 0.1772 - accuracy: 0.9455 - val_loss: 0.1077 - val_accuracy: 0.9671\n",
            "Epoch 3/20\n",
            "235/235 [==============================] - 5s 19ms/step - loss: 0.1280 - accuracy: 0.9607 - val_loss: 0.0899 - val_accuracy: 0.9713\n",
            "Epoch 4/20\n",
            "235/235 [==============================] - 5s 20ms/step - loss: 0.1025 - accuracy: 0.9681 - val_loss: 0.0815 - val_accuracy: 0.9754\n",
            "Epoch 5/20\n",
            "235/235 [==============================] - 5s 19ms/step - loss: 0.0830 - accuracy: 0.9740 - val_loss: 0.0713 - val_accuracy: 0.9779\n",
            "Epoch 6/20\n",
            "235/235 [==============================] - 4s 19ms/step - loss: 0.0759 - accuracy: 0.9763 - val_loss: 0.0719 - val_accuracy: 0.9780\n",
            "Epoch 7/20\n",
            "235/235 [==============================] - 4s 19ms/step - loss: 0.0695 - accuracy: 0.9784 - val_loss: 0.0647 - val_accuracy: 0.9817\n",
            "Epoch 8/20\n",
            "235/235 [==============================] - 5s 20ms/step - loss: 0.0649 - accuracy: 0.9796 - val_loss: 0.0644 - val_accuracy: 0.9815\n",
            "Epoch 9/20\n",
            "235/235 [==============================] - 5s 19ms/step - loss: 0.0578 - accuracy: 0.9816 - val_loss: 0.0662 - val_accuracy: 0.9809\n",
            "Epoch 10/20\n",
            "235/235 [==============================] - 5s 19ms/step - loss: 0.0519 - accuracy: 0.9840 - val_loss: 0.0665 - val_accuracy: 0.9811\n",
            "Epoch 11/20\n",
            "235/235 [==============================] - 5s 20ms/step - loss: 0.0500 - accuracy: 0.9848 - val_loss: 0.0677 - val_accuracy: 0.9812\n",
            "Epoch 12/20\n",
            "235/235 [==============================] - 5s 19ms/step - loss: 0.0476 - accuracy: 0.9852 - val_loss: 0.0617 - val_accuracy: 0.9826\n",
            "Epoch 13/20\n",
            "235/235 [==============================] - 4s 19ms/step - loss: 0.0416 - accuracy: 0.9870 - val_loss: 0.0634 - val_accuracy: 0.9828\n",
            "Epoch 14/20\n",
            "235/235 [==============================] - 5s 19ms/step - loss: 0.0412 - accuracy: 0.9869 - val_loss: 0.0637 - val_accuracy: 0.9833\n",
            "Epoch 15/20\n",
            "235/235 [==============================] - 5s 19ms/step - loss: 0.0414 - accuracy: 0.9874 - val_loss: 0.0635 - val_accuracy: 0.9826\n",
            "Epoch 16/20\n",
            "235/235 [==============================] - 4s 19ms/step - loss: 0.0351 - accuracy: 0.9886 - val_loss: 0.0648 - val_accuracy: 0.9826\n",
            "Epoch 17/20\n",
            "235/235 [==============================] - 4s 19ms/step - loss: 0.0361 - accuracy: 0.9888 - val_loss: 0.0693 - val_accuracy: 0.9809\n",
            "Epoch 18/20\n",
            "235/235 [==============================] - 5s 19ms/step - loss: 0.0322 - accuracy: 0.9893 - val_loss: 0.0656 - val_accuracy: 0.9832\n",
            "Epoch 19/20\n",
            "235/235 [==============================] - 4s 19ms/step - loss: 0.0312 - accuracy: 0.9903 - val_loss: 0.0679 - val_accuracy: 0.9841\n",
            "Epoch 20/20\n",
            "235/235 [==============================] - 4s 19ms/step - loss: 0.0291 - accuracy: 0.9903 - val_loss: 0.0678 - val_accuracy: 0.9850\n"
          ],
          "name": "stdout"
        }
      ]
    },
    {
      "cell_type": "code",
      "metadata": {
        "colab": {
          "base_uri": "https://localhost:8080/",
          "height": 295
        },
        "id": "SesDYL2i1Syo",
        "outputId": "298aaacb-f2e2-4d52-e653-60010c41c6cd"
      },
      "source": [
        "plt.plot(history_rms.history['loss'])\n",
        "plt.title('With RMSprop optimizer')\n",
        "plt.ylabel('Train loss')\n",
        "plt.xlabel('epochs')\n",
        "\n",
        "plt.show()"
      ],
      "execution_count": 26,
      "outputs": [
        {
          "output_type": "display_data",
          "data": {
            "image/png": "[encoded data removed]",
            "text/plain": [
              "<Figure size 432x288 with 1 Axes>"
            ]
          },
          "metadata": {
            "tags": [],
            "needs_background": "light"
          }
        }
      ]
    },
    {
      "cell_type": "code",
      "metadata": {
        "colab": {
          "base_uri": "https://localhost:8080/"
        },
        "id": "aykWqdej2N2x",
        "outputId": "fc09c8c7-34e3-45e7-b501-fb5f4ddad45d"
      },
      "source": [
        "print(\"Test Accuracy = \",history_rms.history['val_accuracy'][-1])"
      ],
      "execution_count": 29,
      "outputs": [
        {
          "output_type": "stream",
          "text": [
            "Test Accuracy =  0.9850000143051147\n"
          ],
          "name": "stdout"
        }
      ]
    },
    {
      "cell_type": "markdown",
      "metadata": {
        "id": "2lgPDVsk2yyF"
      },
      "source": [
        "### SGD with momentum"
      ]
    },
    {
      "cell_type": "code",
      "metadata": {
        "colab": {
          "base_uri": "https://localhost:8080/"
        },
        "id": "BIngZgVm2m-y",
        "outputId": "b68ffd72-2c13-4577-87ca-37f4b54f4f64"
      },
      "source": [
        "MLP_model_SGDm = models.Sequential()\n",
        "MLP_model_SGDm.add(layers.Dense(512, input_shape = (x_train[0].shape), activation='relu'))\n",
        "MLP_model_SGDm.add(layers.Dropout(0.5))\n",
        "MLP_model_SGDm.add(layers.Dense(64, activation = 'relu'))\n",
        "MLP_model_SGDm.add(layers.Dense(10, activation='softmax'))\n",
        "\n",
        "opt = optimizers.SGD(momentum=0.9)\n",
        "MLP_model_SGDm.compile(optimizer=opt, loss='categorical_crossentropy', metrics=['accuracy'])\n",
        "\n",
        "history_SGDm = MLP_model_SGDm.fit(x_train, y_train, epochs=20, batch_size=256, validation_data=(x_test,y_test))"
      ],
      "execution_count": 30,
      "outputs": [
        {
          "output_type": "stream",
          "text": [
            "Epoch 1/20\n",
            "235/235 [==============================] - 5s 19ms/step - loss: 1.1849 - accuracy: 0.6288 - val_loss: 0.2897 - val_accuracy: 0.9178\n",
            "Epoch 2/20\n",
            "235/235 [==============================] - 4s 18ms/step - loss: 0.3502 - accuracy: 0.8972 - val_loss: 0.2140 - val_accuracy: 0.9401\n",
            "Epoch 3/20\n",
            "235/235 [==============================] - 4s 18ms/step - loss: 0.2534 - accuracy: 0.9264 - val_loss: 0.1768 - val_accuracy: 0.9479\n",
            "Epoch 4/20\n",
            "235/235 [==============================] - 4s 17ms/step - loss: 0.2194 - accuracy: 0.9363 - val_loss: 0.1536 - val_accuracy: 0.9546\n",
            "Epoch 5/20\n",
            "235/235 [==============================] - 4s 18ms/step - loss: 0.1919 - accuracy: 0.9437 - val_loss: 0.1348 - val_accuracy: 0.9597\n",
            "Epoch 6/20\n",
            "235/235 [==============================] - 4s 19ms/step - loss: 0.1631 - accuracy: 0.9526 - val_loss: 0.1210 - val_accuracy: 0.9648\n",
            "Epoch 7/20\n",
            "235/235 [==============================] - 5s 20ms/step - loss: 0.1479 - accuracy: 0.9557 - val_loss: 0.1098 - val_accuracy: 0.9668\n",
            "Epoch 8/20\n",
            "235/235 [==============================] - 5s 21ms/step - loss: 0.1378 - accuracy: 0.9604 - val_loss: 0.1033 - val_accuracy: 0.9690\n",
            "Epoch 9/20\n",
            "235/235 [==============================] - 5s 20ms/step - loss: 0.1251 - accuracy: 0.9630 - val_loss: 0.0972 - val_accuracy: 0.9706\n",
            "Epoch 10/20\n",
            "235/235 [==============================] - 4s 19ms/step - loss: 0.1140 - accuracy: 0.9663 - val_loss: 0.0917 - val_accuracy: 0.9726\n",
            "Epoch 11/20\n",
            "235/235 [==============================] - 4s 19ms/step - loss: 0.1114 - accuracy: 0.9679 - val_loss: 0.0865 - val_accuracy: 0.9737\n",
            "Epoch 12/20\n",
            "235/235 [==============================] - 4s 18ms/step - loss: 0.0997 - accuracy: 0.9713 - val_loss: 0.0837 - val_accuracy: 0.9741\n",
            "Epoch 13/20\n",
            "235/235 [==============================] - 4s 18ms/step - loss: 0.0994 - accuracy: 0.9699 - val_loss: 0.0822 - val_accuracy: 0.9745\n",
            "Epoch 14/20\n",
            "235/235 [==============================] - 4s 18ms/step - loss: 0.0907 - accuracy: 0.9726 - val_loss: 0.0773 - val_accuracy: 0.9758\n",
            "Epoch 15/20\n",
            "235/235 [==============================] - 4s 18ms/step - loss: 0.0883 - accuracy: 0.9742 - val_loss: 0.0755 - val_accuracy: 0.9769\n",
            "Epoch 16/20\n",
            "235/235 [==============================] - 4s 18ms/step - loss: 0.0822 - accuracy: 0.9746 - val_loss: 0.0726 - val_accuracy: 0.9772\n",
            "Epoch 17/20\n",
            "235/235 [==============================] - 4s 18ms/step - loss: 0.0754 - accuracy: 0.9785 - val_loss: 0.0717 - val_accuracy: 0.9782\n",
            "Epoch 18/20\n",
            "235/235 [==============================] - 4s 19ms/step - loss: 0.0780 - accuracy: 0.9774 - val_loss: 0.0702 - val_accuracy: 0.9779\n",
            "Epoch 19/20\n",
            "235/235 [==============================] - 4s 18ms/step - loss: 0.0721 - accuracy: 0.9785 - val_loss: 0.0694 - val_accuracy: 0.9784\n",
            "Epoch 20/20\n",
            "235/235 [==============================] - 4s 18ms/step - loss: 0.0694 - accuracy: 0.9794 - val_loss: 0.0673 - val_accuracy: 0.9788\n"
          ],
          "name": "stdout"
        }
      ]
    },
    {
      "cell_type": "code",
      "metadata": {
        "colab": {
          "base_uri": "https://localhost:8080/",
          "height": 295
        },
        "id": "LjjilXOS3TcB",
        "outputId": "1ad16b13-ecdb-4cdf-cd93-03f85a23f587"
      },
      "source": [
        "plt.plot(history_SGDm.history['loss'])\n",
        "plt.title('With SGD optimizer with momentum')\n",
        "plt.ylabel('Train loss')\n",
        "plt.xlabel('epochs')\n",
        "\n",
        "plt.show()"
      ],
      "execution_count": 31,
      "outputs": [
        {
          "output_type": "display_data",
          "data": {
            "image/png": "[encoded data removed]",
            "text/plain": [
              "<Figure size 432x288 with 1 Axes>"
            ]
          },
          "metadata": {
            "tags": [],
            "needs_background": "light"
          }
        }
      ]
    },
    {
      "cell_type": "code",
      "metadata": {
        "colab": {
          "base_uri": "https://localhost:8080/"
        },
        "id": "-SSlYP2t3rEK",
        "outputId": "ca27838a-058a-47d7-d6e3-486f6c9aeec8"
      },
      "source": [
        "print(\"Test Accuracy = \",history_SGDm.history['val_accuracy'][-1])"
      ],
      "execution_count": 32,
      "outputs": [
        {
          "output_type": "stream",
          "text": [
            "Test Accuracy =  0.9787999987602234\n"
          ],
          "name": "stdout"
        }
      ]
    },
    {
      "cell_type": "markdown",
      "metadata": {
        "id": "BYER4tKP5PSW"
      },
      "source": [
        "### SGD without momentum"
      ]
    },
    {
      "cell_type": "code",
      "metadata": {
        "colab": {
          "base_uri": "https://localhost:8080/"
        },
        "id": "6J8qh6rT35Go",
        "outputId": "ee537f89-d050-4c29-c19b-9eedbf7e1ae7"
      },
      "source": [
        "MLP_model_SGD = models.Sequential()\n",
        "MLP_model_SGD.add(layers.Dense(512, input_shape = (x_train[0].shape), activation='relu'))\n",
        "MLP_model_SGD.add(layers.Dropout(0.5))\n",
        "MLP_model_SGD.add(layers.Dense(64, activation = 'relu'))\n",
        "MLP_model_SGD.add(layers.Dense(10, activation='softmax'))\n",
        "\n",
        "opt = optimizers.SGD()\n",
        "MLP_model_SGD.compile(optimizer=opt, loss='categorical_crossentropy', metrics=['accuracy'])\n",
        "\n",
        "history_SGD = MLP_model_SGD.fit(x_train, y_train, epochs=20, batch_size=256, validation_data=(x_test,y_test))"
      ],
      "execution_count": 33,
      "outputs": [
        {
          "output_type": "stream",
          "text": [
            "Epoch 1/20\n",
            "235/235 [==============================] - 5s 18ms/step - loss: 2.0593 - accuracy: 0.2985 - val_loss: 1.0080 - val_accuracy: 0.8080\n",
            "Epoch 2/20\n",
            "235/235 [==============================] - 4s 16ms/step - loss: 1.0127 - accuracy: 0.7356 - val_loss: 0.5576 - val_accuracy: 0.8715\n",
            "Epoch 3/20\n",
            "235/235 [==============================] - 4s 17ms/step - loss: 0.6731 - accuracy: 0.8070 - val_loss: 0.4358 - val_accuracy: 0.8890\n",
            "Epoch 4/20\n",
            "235/235 [==============================] - 4s 17ms/step - loss: 0.5486 - accuracy: 0.8410 - val_loss: 0.3795 - val_accuracy: 0.8991\n",
            "Epoch 5/20\n",
            "235/235 [==============================] - 4s 17ms/step - loss: 0.4840 - accuracy: 0.8589 - val_loss: 0.3454 - val_accuracy: 0.9057\n",
            "Epoch 6/20\n",
            "235/235 [==============================] - 4s 17ms/step - loss: 0.4536 - accuracy: 0.8672 - val_loss: 0.3215 - val_accuracy: 0.9105\n",
            "Epoch 7/20\n",
            "235/235 [==============================] - 4s 17ms/step - loss: 0.4129 - accuracy: 0.8802 - val_loss: 0.3046 - val_accuracy: 0.9147\n",
            "Epoch 8/20\n",
            "235/235 [==============================] - 4s 17ms/step - loss: 0.3970 - accuracy: 0.8828 - val_loss: 0.2900 - val_accuracy: 0.9178\n",
            "Epoch 9/20\n",
            "235/235 [==============================] - 4s 17ms/step - loss: 0.3735 - accuracy: 0.8905 - val_loss: 0.2785 - val_accuracy: 0.9215\n",
            "Epoch 10/20\n",
            "235/235 [==============================] - 4s 17ms/step - loss: 0.3531 - accuracy: 0.8977 - val_loss: 0.2682 - val_accuracy: 0.9236\n",
            "Epoch 11/20\n",
            "235/235 [==============================] - 4s 18ms/step - loss: 0.3424 - accuracy: 0.8990 - val_loss: 0.2589 - val_accuracy: 0.9251\n",
            "Epoch 12/20\n",
            "235/235 [==============================] - 4s 17ms/step - loss: 0.3377 - accuracy: 0.9026 - val_loss: 0.2510 - val_accuracy: 0.9277\n",
            "Epoch 13/20\n",
            "235/235 [==============================] - 4s 17ms/step - loss: 0.3151 - accuracy: 0.9079 - val_loss: 0.2434 - val_accuracy: 0.9302\n",
            "Epoch 14/20\n",
            "235/235 [==============================] - 4s 17ms/step - loss: 0.3134 - accuracy: 0.9087 - val_loss: 0.2361 - val_accuracy: 0.9307\n",
            "Epoch 15/20\n",
            "235/235 [==============================] - 4s 17ms/step - loss: 0.2968 - accuracy: 0.9145 - val_loss: 0.2296 - val_accuracy: 0.9326\n",
            "Epoch 16/20\n",
            "235/235 [==============================] - 4s 17ms/step - loss: 0.2893 - accuracy: 0.9156 - val_loss: 0.2236 - val_accuracy: 0.9346\n",
            "Epoch 17/20\n",
            "235/235 [==============================] - 4s 17ms/step - loss: 0.2872 - accuracy: 0.9173 - val_loss: 0.2186 - val_accuracy: 0.9366\n",
            "Epoch 18/20\n",
            "235/235 [==============================] - 4s 17ms/step - loss: 0.2831 - accuracy: 0.9181 - val_loss: 0.2127 - val_accuracy: 0.9379\n",
            "Epoch 19/20\n",
            "235/235 [==============================] - 4s 17ms/step - loss: 0.2665 - accuracy: 0.9243 - val_loss: 0.2081 - val_accuracy: 0.9391\n",
            "Epoch 20/20\n",
            "235/235 [==============================] - 4s 17ms/step - loss: 0.2683 - accuracy: 0.9224 - val_loss: 0.2029 - val_accuracy: 0.9410\n"
          ],
          "name": "stdout"
        }
      ]
    },
    {
      "cell_type": "code",
      "metadata": {
        "colab": {
          "base_uri": "https://localhost:8080/",
          "height": 295
        },
        "id": "nr9JYUDc4HZl",
        "outputId": "49970b19-e868-4878-979c-0dd953b290bd"
      },
      "source": [
        "plt.plot(history_SGD.history['loss'])\n",
        "plt.title('With SGD optimizer without momentum')\n",
        "plt.ylabel('Train loss')\n",
        "plt.xlabel('epochs')\n",
        "\n",
        "plt.show()"
      ],
      "execution_count": 34,
      "outputs": [
        {
          "output_type": "display_data",
          "data": {
            "image/png": "[encoded data removed]",
            "text/plain": [
              "<Figure size 432x288 with 1 Axes>"
            ]
          },
          "metadata": {
            "tags": [],
            "needs_background": "light"
          }
        }
      ]
    },
    {
      "cell_type": "code",
      "metadata": {
        "colab": {
          "base_uri": "https://localhost:8080/"
        },
        "id": "-snLWj-n4yXb",
        "outputId": "bddbc87e-88bc-44ed-d358-df47a0ed679b"
      },
      "source": [
        "print(\"Test Accuracy = \",history_SGD.history['val_accuracy'][-1])"
      ],
      "execution_count": 35,
      "outputs": [
        {
          "output_type": "stream",
          "text": [
            "Test Accuracy =  0.9409999847412109\n"
          ],
          "name": "stdout"
        }
      ]
    },
    {
      "cell_type": "markdown",
      "metadata": {
        "id": "agXzjnZH5i_V"
      },
      "source": [
        "## **Experimenting with variuos weight initializations**"
      ]
    },
    {
      "cell_type": "markdown",
      "metadata": {
        "id": "GgcLFB8a6Gl7"
      },
      "source": [
        "### Xavier normal (GlorotNormal)"
      ]
    },
    {
      "cell_type": "code",
      "metadata": {
        "colab": {
          "base_uri": "https://localhost:8080/"
        },
        "id": "rxuh3ACV43n_",
        "outputId": "0dca81ba-145b-4dbf-bffd-78a6b4e80016"
      },
      "source": [
        "MLP_model_XN = models.Sequential()\n",
        "MLP_model_XN.add(layers.Dense(512, input_shape = (x_train[0].shape), activation='relu', kernel_initializer=keras.initializers.GlorotNormal()))\n",
        "MLP_model_XN.add(layers.Dropout(0.5))\n",
        "MLP_model_XN.add(layers.Dense(64, activation = 'relu', kernel_initializer=keras.initializers.GlorotNormal()))\n",
        "MLP_model_XN.add(layers.Dense(10, activation='softmax', kernel_initializer=keras.initializers.GlorotNormal()))\n",
        "\n",
        "MLP_model_XN.compile(optimizer='adam', loss='categorical_crossentropy', metrics=['accuracy'])\n",
        "\n",
        "history_XN = MLP_model_XN.fit(x_train, y_train, epochs=22, batch_size=256, validation_data=(x_test,y_test))"
      ],
      "execution_count": 9,
      "outputs": [
        {
          "output_type": "stream",
          "text": [
            "Epoch 1/22\n",
            "235/235 [==============================] - 4s 16ms/step - loss: 0.6889 - accuracy: 0.7890 - val_loss: 0.1499 - val_accuracy: 0.9548\n",
            "Epoch 2/22\n",
            "235/235 [==============================] - 4s 15ms/step - loss: 0.1795 - accuracy: 0.9472 - val_loss: 0.1059 - val_accuracy: 0.9674\n",
            "Epoch 3/22\n",
            "235/235 [==============================] - 4s 15ms/step - loss: 0.1279 - accuracy: 0.9611 - val_loss: 0.0849 - val_accuracy: 0.9731\n",
            "Epoch 4/22\n",
            "235/235 [==============================] - 4s 15ms/step - loss: 0.0995 - accuracy: 0.9690 - val_loss: 0.0764 - val_accuracy: 0.9766\n",
            "Epoch 5/22\n",
            "235/235 [==============================] - 4s 16ms/step - loss: 0.0866 - accuracy: 0.9731 - val_loss: 0.0664 - val_accuracy: 0.9782\n",
            "Epoch 6/22\n",
            "235/235 [==============================] - 4s 15ms/step - loss: 0.0735 - accuracy: 0.9772 - val_loss: 0.0668 - val_accuracy: 0.9792\n",
            "Epoch 7/22\n",
            "235/235 [==============================] - 4s 16ms/step - loss: 0.0639 - accuracy: 0.9793 - val_loss: 0.0648 - val_accuracy: 0.9800\n",
            "Epoch 8/22\n",
            "235/235 [==============================] - 4s 16ms/step - loss: 0.0576 - accuracy: 0.9810 - val_loss: 0.0598 - val_accuracy: 0.9822\n",
            "Epoch 9/22\n",
            "235/235 [==============================] - 4s 15ms/step - loss: 0.0537 - accuracy: 0.9823 - val_loss: 0.0593 - val_accuracy: 0.9807\n",
            "Epoch 10/22\n",
            "235/235 [==============================] - 4s 15ms/step - loss: 0.0496 - accuracy: 0.9841 - val_loss: 0.0648 - val_accuracy: 0.9810\n",
            "Epoch 11/22\n",
            "235/235 [==============================] - 4s 15ms/step - loss: 0.0459 - accuracy: 0.9844 - val_loss: 0.0574 - val_accuracy: 0.9833\n",
            "Epoch 12/22\n",
            "235/235 [==============================] - 4s 16ms/step - loss: 0.0393 - accuracy: 0.9873 - val_loss: 0.0573 - val_accuracy: 0.9824\n",
            "Epoch 13/22\n",
            "235/235 [==============================] - 4s 15ms/step - loss: 0.0409 - accuracy: 0.9861 - val_loss: 0.0595 - val_accuracy: 0.9823\n",
            "Epoch 14/22\n",
            "235/235 [==============================] - 4s 15ms/step - loss: 0.0386 - accuracy: 0.9871 - val_loss: 0.0556 - val_accuracy: 0.9831\n",
            "Epoch 15/22\n",
            "235/235 [==============================] - 4s 15ms/step - loss: 0.0338 - accuracy: 0.9889 - val_loss: 0.0608 - val_accuracy: 0.9814\n",
            "Epoch 16/22\n",
            "235/235 [==============================] - 4s 15ms/step - loss: 0.0346 - accuracy: 0.9879 - val_loss: 0.0618 - val_accuracy: 0.9835\n",
            "Epoch 17/22\n",
            "235/235 [==============================] - 4s 16ms/step - loss: 0.0341 - accuracy: 0.9883 - val_loss: 0.0592 - val_accuracy: 0.9838\n",
            "Epoch 18/22\n",
            "235/235 [==============================] - 4s 16ms/step - loss: 0.0314 - accuracy: 0.9891 - val_loss: 0.0584 - val_accuracy: 0.9831\n",
            "Epoch 19/22\n",
            "235/235 [==============================] - 4s 16ms/step - loss: 0.0287 - accuracy: 0.9902 - val_loss: 0.0635 - val_accuracy: 0.9823\n",
            "Epoch 20/22\n",
            "235/235 [==============================] - 4s 15ms/step - loss: 0.0308 - accuracy: 0.9894 - val_loss: 0.0597 - val_accuracy: 0.9836\n",
            "Epoch 21/22\n",
            "235/235 [==============================] - 4s 15ms/step - loss: 0.0258 - accuracy: 0.9912 - val_loss: 0.0551 - val_accuracy: 0.9851\n",
            "Epoch 22/22\n",
            "235/235 [==============================] - 4s 15ms/step - loss: 0.0282 - accuracy: 0.9903 - val_loss: 0.0603 - val_accuracy: 0.9837\n"
          ],
          "name": "stdout"
        }
      ]
    },
    {
      "cell_type": "code",
      "metadata": {
        "colab": {
          "base_uri": "https://localhost:8080/",
          "height": 295
        },
        "id": "bZoeNOs765FR",
        "outputId": "6d8d09b2-c07c-4edc-deb9-cd27b38b8889"
      },
      "source": [
        "plt.plot(history_XN.history['loss'])\n",
        "plt.title('With Xavier normal initialization (Adam opt.)')\n",
        "plt.ylabel('Train loss')\n",
        "plt.xlabel('epochs')\n",
        "\n",
        "plt.show()"
      ],
      "execution_count": 37,
      "outputs": [
        {
          "output_type": "display_data",
          "data": {
            "image/png": "[encoded data removed]",
            "text/plain": [
              "<Figure size 432x288 with 1 Axes>"
            ]
          },
          "metadata": {
            "tags": [],
            "needs_background": "light"
          }
        }
      ]
    },
    {
      "cell_type": "code",
      "metadata": {
        "colab": {
          "base_uri": "https://localhost:8080/"
        },
        "id": "gaOv3mIO7kll",
        "outputId": "24f9bac9-471e-42b0-f2f2-b0f5acaaa9c0"
      },
      "source": [
        "print(\"Test Accuracy = \",history_XN.history['val_accuracy'][-1])"
      ],
      "execution_count": 38,
      "outputs": [
        {
          "output_type": "stream",
          "text": [
            "Test Accuracy =  0.9854999780654907\n"
          ],
          "name": "stdout"
        }
      ]
    },
    {
      "cell_type": "markdown",
      "metadata": {
        "id": "LNax5qRW760e"
      },
      "source": [
        "###Xavier Uniform (GlorotUniform)"
      ]
    },
    {
      "cell_type": "code",
      "metadata": {
        "colab": {
          "base_uri": "https://localhost:8080/"
        },
        "id": "OueE5Q3_7o_S",
        "outputId": "ef58b230-a9ea-4d01-fdfa-3bc6c77353fc"
      },
      "source": [
        "MLP_model_XU = models.Sequential()\n",
        "MLP_model_XU.add(layers.Dense(512, input_shape = (x_train[0].shape), activation='relu', kernel_initializer=keras.initializers.GlorotUniform()))\n",
        "MLP_model_XU.add(layers.Dropout(0.5))\n",
        "MLP_model_XU.add(layers.Dense(64, activation = 'relu', kernel_initializer=keras.initializers.GlorotUniform()))\n",
        "MLP_model_XU.add(layers.Dense(10, activation='softmax', kernel_initializer=keras.initializers.GlorotUniform()))\n",
        "\n",
        "MLP_model_XU.compile(optimizer='adam', loss='categorical_crossentropy', metrics=['accuracy'])\n",
        "\n",
        "history_XU = MLP_model_XU.fit(x_train, y_train, epochs=22, batch_size=256, validation_data=(x_test,y_test))"
      ],
      "execution_count": 39,
      "outputs": [
        {
          "output_type": "stream",
          "text": [
            "Epoch 1/22\n",
            "235/235 [==============================] - 5s 19ms/step - loss: 0.6748 - accuracy: 0.7918 - val_loss: 0.1527 - val_accuracy: 0.9535\n",
            "Epoch 2/22\n",
            "235/235 [==============================] - 4s 18ms/step - loss: 0.1747 - accuracy: 0.9481 - val_loss: 0.1058 - val_accuracy: 0.9670\n",
            "Epoch 3/22\n",
            "235/235 [==============================] - 4s 19ms/step - loss: 0.1275 - accuracy: 0.9618 - val_loss: 0.0856 - val_accuracy: 0.9740\n",
            "Epoch 4/22\n",
            "235/235 [==============================] - 4s 18ms/step - loss: 0.0994 - accuracy: 0.9701 - val_loss: 0.0767 - val_accuracy: 0.9760\n",
            "Epoch 5/22\n",
            "235/235 [==============================] - 4s 19ms/step - loss: 0.0887 - accuracy: 0.9732 - val_loss: 0.0773 - val_accuracy: 0.9758\n",
            "Epoch 6/22\n",
            "235/235 [==============================] - 4s 19ms/step - loss: 0.0724 - accuracy: 0.9770 - val_loss: 0.0664 - val_accuracy: 0.9788\n",
            "Epoch 7/22\n",
            "235/235 [==============================] - 4s 19ms/step - loss: 0.0636 - accuracy: 0.9795 - val_loss: 0.0652 - val_accuracy: 0.9792\n",
            "Epoch 8/22\n",
            "235/235 [==============================] - 4s 18ms/step - loss: 0.0588 - accuracy: 0.9805 - val_loss: 0.0613 - val_accuracy: 0.9807\n",
            "Epoch 9/22\n",
            "235/235 [==============================] - 4s 18ms/step - loss: 0.0545 - accuracy: 0.9822 - val_loss: 0.0651 - val_accuracy: 0.9790\n",
            "Epoch 10/22\n",
            "235/235 [==============================] - 4s 18ms/step - loss: 0.0483 - accuracy: 0.9839 - val_loss: 0.0607 - val_accuracy: 0.9799\n",
            "Epoch 11/22\n",
            "235/235 [==============================] - 4s 17ms/step - loss: 0.0481 - accuracy: 0.9837 - val_loss: 0.0575 - val_accuracy: 0.9823\n",
            "Epoch 12/22\n",
            "235/235 [==============================] - 4s 17ms/step - loss: 0.0436 - accuracy: 0.9866 - val_loss: 0.0560 - val_accuracy: 0.9830\n",
            "Epoch 13/22\n",
            "235/235 [==============================] - 4s 17ms/step - loss: 0.0409 - accuracy: 0.9859 - val_loss: 0.0539 - val_accuracy: 0.9827\n",
            "Epoch 14/22\n",
            "235/235 [==============================] - 4s 17ms/step - loss: 0.0370 - accuracy: 0.9871 - val_loss: 0.0544 - val_accuracy: 0.9835\n",
            "Epoch 15/22\n",
            "235/235 [==============================] - 4s 17ms/step - loss: 0.0358 - accuracy: 0.9878 - val_loss: 0.0597 - val_accuracy: 0.9815\n",
            "Epoch 16/22\n",
            "235/235 [==============================] - 4s 17ms/step - loss: 0.0357 - accuracy: 0.9884 - val_loss: 0.0613 - val_accuracy: 0.9819\n",
            "Epoch 17/22\n",
            "235/235 [==============================] - 4s 18ms/step - loss: 0.0353 - accuracy: 0.9881 - val_loss: 0.0572 - val_accuracy: 0.9829\n",
            "Epoch 18/22\n",
            "235/235 [==============================] - 4s 18ms/step - loss: 0.0328 - accuracy: 0.9887 - val_loss: 0.0684 - val_accuracy: 0.9820\n",
            "Epoch 19/22\n",
            "235/235 [==============================] - 4s 17ms/step - loss: 0.0332 - accuracy: 0.9882 - val_loss: 0.0557 - val_accuracy: 0.9840\n",
            "Epoch 20/22\n",
            "235/235 [==============================] - 4s 18ms/step - loss: 0.0264 - accuracy: 0.9918 - val_loss: 0.0570 - val_accuracy: 0.9842\n",
            "Epoch 21/22\n",
            "235/235 [==============================] - 4s 18ms/step - loss: 0.0277 - accuracy: 0.9902 - val_loss: 0.0596 - val_accuracy: 0.9833\n",
            "Epoch 22/22\n",
            "235/235 [==============================] - 4s 19ms/step - loss: 0.0287 - accuracy: 0.9907 - val_loss: 0.0610 - val_accuracy: 0.9830\n"
          ],
          "name": "stdout"
        }
      ]
    },
    {
      "cell_type": "code",
      "metadata": {
        "colab": {
          "base_uri": "https://localhost:8080/",
          "height": 295
        },
        "id": "UUdlkPoi75qN",
        "outputId": "06828a98-e384-42d6-91a0-03f5811114d4"
      },
      "source": [
        "plt.plot(history_XU.history['loss'])\n",
        "plt.title('With Xavier uniform initialization (Adam opt.)')\n",
        "plt.ylabel('Train loss')\n",
        "plt.xlabel('epochs')\n",
        "\n",
        "plt.show()"
      ],
      "execution_count": 40,
      "outputs": [
        {
          "output_type": "display_data",
          "data": {
            "image/png": "[encoded data removed]",
            "text/plain": [
              "<Figure size 432x288 with 1 Axes>"
            ]
          },
          "metadata": {
            "tags": [],
            "needs_background": "light"
          }
        }
      ]
    },
    {
      "cell_type": "code",
      "metadata": {
        "colab": {
          "base_uri": "https://localhost:8080/"
        },
        "id": "Y3Rw4-5u8JVg",
        "outputId": "b7e74ed8-f9de-4b79-97e3-0c16cd4f097f"
      },
      "source": [
        "print(\"Test Accuracy = \",history_XU.history['val_accuracy'][-1])"
      ],
      "execution_count": 41,
      "outputs": [
        {
          "output_type": "stream",
          "text": [
            "Test Accuracy =  0.9829999804496765\n"
          ],
          "name": "stdout"
        }
      ]
    },
    {
      "cell_type": "markdown",
      "metadata": {
        "id": "qyRo-9CZ8lAU"
      },
      "source": [
        "## **Experimenting with different Learning rates**"
      ]
    },
    {
      "cell_type": "markdown",
      "metadata": {
        "id": "Dw2jcjV1-Vk-"
      },
      "source": [
        "### Learning rate = 0.0001 (Might be Too Low)"
      ]
    },
    {
      "cell_type": "code",
      "metadata": {
        "colab": {
          "base_uri": "https://localhost:8080/"
        },
        "id": "J-FudtxN8ebT",
        "outputId": "2503d8a7-a8c5-41aa-f2a6-9a961047848e"
      },
      "source": [
        "MLP_model_l1 = models.Sequential()\n",
        "MLP_model_l1.add(layers.Dense(512, input_shape = (x_train[0].shape), activation='relu'))\n",
        "MLP_model_l1.add(layers.Dropout(0.5))\n",
        "MLP_model_l1.add(layers.Dense(64, activation = 'relu'))\n",
        "MLP_model_l1.add(layers.Dense(10, activation='softmax'))\n",
        "\n",
        "opt = keras.optimizers.Adam(learning_rate=0.0001)\n",
        "MLP_model_l1.compile(optimizer=opt, loss='categorical_crossentropy', metrics=['accuracy'])\n",
        "\n",
        "history_l1 = MLP_model_l1.fit(x_train, y_train, epochs=20, batch_size=256, validation_data=(x_test,y_test))"
      ],
      "execution_count": 45,
      "outputs": [
        {
          "output_type": "stream",
          "text": [
            "Epoch 1/20\n",
            "235/235 [==============================] - 5s 18ms/step - loss: 1.5562 - accuracy: 0.5261 - val_loss: 0.3998 - val_accuracy: 0.8960\n",
            "Epoch 2/20\n",
            "235/235 [==============================] - 4s 16ms/step - loss: 0.4644 - accuracy: 0.8655 - val_loss: 0.2849 - val_accuracy: 0.9210\n",
            "Epoch 3/20\n",
            "235/235 [==============================] - 4s 16ms/step - loss: 0.3434 - accuracy: 0.9007 - val_loss: 0.2386 - val_accuracy: 0.9338\n",
            "Epoch 4/20\n",
            "235/235 [==============================] - 4s 17ms/step - loss: 0.2870 - accuracy: 0.9186 - val_loss: 0.2064 - val_accuracy: 0.9407\n",
            "Epoch 5/20\n",
            "235/235 [==============================] - 4s 16ms/step - loss: 0.2567 - accuracy: 0.9254 - val_loss: 0.1858 - val_accuracy: 0.9452\n",
            "Epoch 6/20\n",
            "235/235 [==============================] - 4s 16ms/step - loss: 0.2205 - accuracy: 0.9364 - val_loss: 0.1671 - val_accuracy: 0.9501\n",
            "Epoch 7/20\n",
            "235/235 [==============================] - 4s 16ms/step - loss: 0.2032 - accuracy: 0.9406 - val_loss: 0.1540 - val_accuracy: 0.9547\n",
            "Epoch 8/20\n",
            "235/235 [==============================] - 4s 17ms/step - loss: 0.1877 - accuracy: 0.9467 - val_loss: 0.1441 - val_accuracy: 0.9572\n",
            "Epoch 9/20\n",
            "235/235 [==============================] - 4s 17ms/step - loss: 0.1737 - accuracy: 0.9486 - val_loss: 0.1323 - val_accuracy: 0.9608\n",
            "Epoch 10/20\n",
            "235/235 [==============================] - 4s 17ms/step - loss: 0.1582 - accuracy: 0.9550 - val_loss: 0.1235 - val_accuracy: 0.9638\n",
            "Epoch 11/20\n",
            "235/235 [==============================] - 4s 16ms/step - loss: 0.1537 - accuracy: 0.9547 - val_loss: 0.1186 - val_accuracy: 0.9643\n",
            "Epoch 12/20\n",
            "235/235 [==============================] - 4s 17ms/step - loss: 0.1343 - accuracy: 0.9605 - val_loss: 0.1107 - val_accuracy: 0.9672\n",
            "Epoch 13/20\n",
            "235/235 [==============================] - 4s 17ms/step - loss: 0.1329 - accuracy: 0.9622 - val_loss: 0.1070 - val_accuracy: 0.9680\n",
            "Epoch 14/20\n",
            "235/235 [==============================] - 4s 16ms/step - loss: 0.1241 - accuracy: 0.9644 - val_loss: 0.1025 - val_accuracy: 0.9693\n",
            "Epoch 15/20\n",
            "235/235 [==============================] - 4s 17ms/step - loss: 0.1194 - accuracy: 0.9656 - val_loss: 0.0970 - val_accuracy: 0.9707\n",
            "Epoch 16/20\n",
            "235/235 [==============================] - 4s 16ms/step - loss: 0.1125 - accuracy: 0.9674 - val_loss: 0.0941 - val_accuracy: 0.9711\n",
            "Epoch 17/20\n",
            "235/235 [==============================] - 4s 17ms/step - loss: 0.1093 - accuracy: 0.9673 - val_loss: 0.0920 - val_accuracy: 0.9717\n",
            "Epoch 18/20\n",
            "235/235 [==============================] - 4s 16ms/step - loss: 0.1037 - accuracy: 0.9697 - val_loss: 0.0878 - val_accuracy: 0.9726\n",
            "Epoch 19/20\n",
            "235/235 [==============================] - 4s 17ms/step - loss: 0.1001 - accuracy: 0.9700 - val_loss: 0.0848 - val_accuracy: 0.9741\n",
            "Epoch 20/20\n",
            "235/235 [==============================] - 4s 17ms/step - loss: 0.0953 - accuracy: 0.9724 - val_loss: 0.0828 - val_accuracy: 0.9746\n"
          ],
          "name": "stdout"
        }
      ]
    },
    {
      "cell_type": "code",
      "metadata": {
        "colab": {
          "base_uri": "https://localhost:8080/",
          "height": 295
        },
        "id": "O9d30ywd_q1-",
        "outputId": "418c08a4-dbd7-4dc8-c826-7ead41783b87"
      },
      "source": [
        "plt.plot(history_l1.history['loss'])\n",
        "plt.title('With learning rate = 0.0001 (Adam opt.)')\n",
        "plt.ylabel('Train loss')\n",
        "plt.xlabel('epochs')\n",
        "\n",
        "plt.show()"
      ],
      "execution_count": 49,
      "outputs": [
        {
          "output_type": "display_data",
          "data": {
            "image/png": "[encoded data removed]",
            "text/plain": [
              "<Figure size 432x288 with 1 Axes>"
            ]
          },
          "metadata": {
            "tags": [],
            "needs_background": "light"
          }
        }
      ]
    },
    {
      "cell_type": "code",
      "metadata": {
        "colab": {
          "base_uri": "https://localhost:8080/"
        },
        "id": "amV9IVwu_82E",
        "outputId": "29b98cb9-7b19-4dfb-c5c8-2ea4b2237f92"
      },
      "source": [
        "print(\"Test Accuracy = \",history_l1.history['val_accuracy'][-1])"
      ],
      "execution_count": 47,
      "outputs": [
        {
          "output_type": "stream",
          "text": [
            "Test Accuracy =  0.9746000170707703\n"
          ],
          "name": "stdout"
        }
      ]
    },
    {
      "cell_type": "markdown",
      "metadata": {
        "id": "5IOjvpMqAXBm"
      },
      "source": [
        "### Learning rate = 0.999 (Might be too high)"
      ]
    },
    {
      "cell_type": "code",
      "metadata": {
        "colab": {
          "base_uri": "https://localhost:8080/"
        },
        "id": "rtykdooV__8X",
        "outputId": "cd82d8ae-cb27-4f92-f7f2-348151631044"
      },
      "source": [
        "MLP_model_l2 = models.Sequential()\n",
        "MLP_model_l2.add(layers.Dense(512, input_shape = (x_train[0].shape), activation='relu'))\n",
        "MLP_model_l2.add(layers.Dropout(0.5))\n",
        "MLP_model_l2.add(layers.Dense(64, activation = 'relu'))\n",
        "MLP_model_l2.add(layers.Dense(10, activation='softmax'))\n",
        "\n",
        "opt = keras.optimizers.Adam(learning_rate=0.999)\n",
        "MLP_model_l2.compile(optimizer=opt, loss='categorical_crossentropy', metrics=['accuracy'])\n",
        "\n",
        "history_l2 = MLP_model_l2.fit(x_train, y_train, epochs=20, batch_size=256, validation_data=(x_test,y_test))"
      ],
      "execution_count": 48,
      "outputs": [
        {
          "output_type": "stream",
          "text": [
            "Epoch 1/20\n",
            "235/235 [==============================] - 4s 17ms/step - loss: 3019.0841 - accuracy: 0.1052 - val_loss: 2.3420 - val_accuracy: 0.0958\n",
            "Epoch 2/20\n",
            "235/235 [==============================] - 4s 16ms/step - loss: 2.3355 - accuracy: 0.1028 - val_loss: 2.3377 - val_accuracy: 0.1028\n",
            "Epoch 3/20\n",
            "235/235 [==============================] - 4s 16ms/step - loss: 2.3325 - accuracy: 0.1047 - val_loss: 2.3320 - val_accuracy: 0.1009\n",
            "Epoch 4/20\n",
            "235/235 [==============================] - 4s 16ms/step - loss: 2.3697 - accuracy: 0.1011 - val_loss: 2.3247 - val_accuracy: 0.0980\n",
            "Epoch 5/20\n",
            "235/235 [==============================] - 4s 16ms/step - loss: 2.7589 - accuracy: 0.1022 - val_loss: 2.3116 - val_accuracy: 0.0892\n",
            "Epoch 6/20\n",
            "235/235 [==============================] - 4s 16ms/step - loss: 2.3505 - accuracy: 0.0989 - val_loss: 2.3526 - val_accuracy: 0.0958\n",
            "Epoch 7/20\n",
            "235/235 [==============================] - 4s 17ms/step - loss: 3.0338 - accuracy: 0.1019 - val_loss: 2.3292 - val_accuracy: 0.1135\n",
            "Epoch 8/20\n",
            "235/235 [==============================] - 4s 17ms/step - loss: 2.3337 - accuracy: 0.1044 - val_loss: 2.3558 - val_accuracy: 0.0892\n",
            "Epoch 9/20\n",
            "235/235 [==============================] - 4s 17ms/step - loss: 2.3303 - accuracy: 0.1032 - val_loss: 2.3657 - val_accuracy: 0.1010\n",
            "Epoch 10/20\n",
            "235/235 [==============================] - 4s 17ms/step - loss: 2.3503 - accuracy: 0.1048 - val_loss: 2.3389 - val_accuracy: 0.1032\n",
            "Epoch 11/20\n",
            "235/235 [==============================] - 4s 17ms/step - loss: 2.3277 - accuracy: 0.1032 - val_loss: 2.3515 - val_accuracy: 0.1032\n",
            "Epoch 12/20\n",
            "235/235 [==============================] - 4s 17ms/step - loss: 2.4691 - accuracy: 0.1038 - val_loss: 2.3597 - val_accuracy: 0.0974\n",
            "Epoch 13/20\n",
            "235/235 [==============================] - 4s 17ms/step - loss: 2.3322 - accuracy: 0.1027 - val_loss: 2.3111 - val_accuracy: 0.1135\n",
            "Epoch 14/20\n",
            "235/235 [==============================] - 4s 17ms/step - loss: 2.3377 - accuracy: 0.1031 - val_loss: 2.3505 - val_accuracy: 0.0892\n",
            "Epoch 15/20\n",
            "235/235 [==============================] - 4s 17ms/step - loss: 2.3325 - accuracy: 0.0978 - val_loss: 2.3084 - val_accuracy: 0.1010\n",
            "Epoch 16/20\n",
            "235/235 [==============================] - 4s 17ms/step - loss: 2.3300 - accuracy: 0.1010 - val_loss: 2.3282 - val_accuracy: 0.1028\n",
            "Epoch 17/20\n",
            "235/235 [==============================] - 4s 16ms/step - loss: 2.3295 - accuracy: 0.1045 - val_loss: 2.3424 - val_accuracy: 0.1135\n",
            "Epoch 18/20\n",
            "235/235 [==============================] - 4s 17ms/step - loss: 2.3329 - accuracy: 0.1020 - val_loss: 2.3437 - val_accuracy: 0.1032\n",
            "Epoch 19/20\n",
            "235/235 [==============================] - 4s 17ms/step - loss: 2.3347 - accuracy: 0.1015 - val_loss: 2.3264 - val_accuracy: 0.1032\n",
            "Epoch 20/20\n",
            "235/235 [==============================] - 4s 17ms/step - loss: 2.3364 - accuracy: 0.0991 - val_loss: 2.3623 - val_accuracy: 0.1028\n"
          ],
          "name": "stdout"
        }
      ]
    },
    {
      "cell_type": "code",
      "metadata": {
        "colab": {
          "base_uri": "https://localhost:8080/",
          "height": 295
        },
        "id": "1zJnjYC0AqJD",
        "outputId": "1228cd2c-03cc-4a04-a7a9-d9c2609c2926"
      },
      "source": [
        "plt.plot(history_l2.history['loss'])\n",
        "plt.title('With learning rate = 0.999 (Adam opt.)')\n",
        "plt.ylabel('Train loss')\n",
        "plt.xlabel('epochs')\n",
        "\n",
        "plt.show()"
      ],
      "execution_count": 50,
      "outputs": [
        {
          "output_type": "display_data",
          "data": {
            "image/png": "[encoded data removed]",
            "text/plain": [
              "<Figure size 432x288 with 1 Axes>"
            ]
          },
          "metadata": {
            "tags": [],
            "needs_background": "light"
          }
        }
      ]
    },
    {
      "cell_type": "code",
      "metadata": {
        "colab": {
          "base_uri": "https://localhost:8080/"
        },
        "id": "6q_2QzQxA02a",
        "outputId": "fd4f4bf7-4786-40ed-b778-12b39d35c9a7"
      },
      "source": [
        "print(\"Test Accuracy = \",history_l2.history['val_accuracy'][-1])"
      ],
      "execution_count": 51,
      "outputs": [
        {
          "output_type": "stream",
          "text": [
            "Test Accuracy =  0.10279999673366547\n"
          ],
          "name": "stdout"
        }
      ]
    },
    {
      "cell_type": "markdown",
      "metadata": {
        "id": "90dILPUBA6Lg"
      },
      "source": [
        "### Exponential annealing on learning rate"
      ]
    },
    {
      "cell_type": "code",
      "metadata": {
        "colab": {
          "base_uri": "https://localhost:8080/"
        },
        "id": "JFz-H_9TA5QY",
        "outputId": "e90f1a16-80af-48c2-fdb8-f89c6d88f191"
      },
      "source": [
        "MLP_model_lexp = models.Sequential()\n",
        "MLP_model_lexp.add(layers.Dense(512, input_shape = (x_train[0].shape), activation='relu'))\n",
        "MLP_model_lexp.add(layers.Dropout(0.5))\n",
        "MLP_model_lexp.add(layers.Dense(64, activation = 'relu'))\n",
        "MLP_model_lexp.add(layers.Dense(10, activation='softmax'))\n",
        "\n",
        "lr_schedule = keras.optimizers.schedules.ExponentialDecay(initial_learning_rate=1e-2, decay_steps=10000, decay_rate=0.9)\n",
        "\n",
        "opt = keras.optimizers.Adam(learning_rate=lr_schedule)\n",
        "MLP_model_lexp.compile(optimizer=opt, loss='categorical_crossentropy', metrics=['accuracy'])\n",
        "\n",
        "history_lexp = MLP_model_lexp.fit(x_train, y_train, epochs=20, batch_size=256, validation_data=(x_test,y_test))"
      ],
      "execution_count": 52,
      "outputs": [
        {
          "output_type": "stream",
          "text": [
            "Epoch 1/20\n",
            "235/235 [==============================] - 4s 17ms/step - loss: 0.6312 - accuracy: 0.8014 - val_loss: 0.1357 - val_accuracy: 0.9583\n",
            "Epoch 2/20\n",
            "235/235 [==============================] - 4s 16ms/step - loss: 0.2155 - accuracy: 0.9346 - val_loss: 0.1203 - val_accuracy: 0.9654\n",
            "Epoch 3/20\n",
            "235/235 [==============================] - 4s 17ms/step - loss: 0.1846 - accuracy: 0.9438 - val_loss: 0.1063 - val_accuracy: 0.9699\n",
            "Epoch 4/20\n",
            "235/235 [==============================] - 4s 17ms/step - loss: 0.1650 - accuracy: 0.9491 - val_loss: 0.0899 - val_accuracy: 0.9733\n",
            "Epoch 5/20\n",
            "235/235 [==============================] - 4s 16ms/step - loss: 0.1559 - accuracy: 0.9518 - val_loss: 0.1074 - val_accuracy: 0.9689\n",
            "Epoch 6/20\n",
            "235/235 [==============================] - 4s 16ms/step - loss: 0.1493 - accuracy: 0.9550 - val_loss: 0.0967 - val_accuracy: 0.9710\n",
            "Epoch 7/20\n",
            "235/235 [==============================] - 4s 16ms/step - loss: 0.1401 - accuracy: 0.9585 - val_loss: 0.1006 - val_accuracy: 0.9724\n",
            "Epoch 8/20\n",
            "235/235 [==============================] - 4s 17ms/step - loss: 0.1401 - accuracy: 0.9576 - val_loss: 0.0891 - val_accuracy: 0.9751\n",
            "Epoch 9/20\n",
            "235/235 [==============================] - 4s 17ms/step - loss: 0.1262 - accuracy: 0.9622 - val_loss: 0.1046 - val_accuracy: 0.9723\n",
            "Epoch 10/20\n",
            "235/235 [==============================] - 4s 16ms/step - loss: 0.1246 - accuracy: 0.9619 - val_loss: 0.0912 - val_accuracy: 0.9750\n",
            "Epoch 11/20\n",
            "235/235 [==============================] - 4s 17ms/step - loss: 0.1251 - accuracy: 0.9628 - val_loss: 0.1075 - val_accuracy: 0.9704\n",
            "Epoch 12/20\n",
            "235/235 [==============================] - 4s 17ms/step - loss: 0.1157 - accuracy: 0.9657 - val_loss: 0.0865 - val_accuracy: 0.9770\n",
            "Epoch 13/20\n",
            "235/235 [==============================] - 4s 17ms/step - loss: 0.1177 - accuracy: 0.9655 - val_loss: 0.0902 - val_accuracy: 0.9755\n",
            "Epoch 14/20\n",
            "235/235 [==============================] - 4s 17ms/step - loss: 0.1101 - accuracy: 0.9676 - val_loss: 0.0882 - val_accuracy: 0.9770\n",
            "Epoch 15/20\n",
            "235/235 [==============================] - 4s 17ms/step - loss: 0.1100 - accuracy: 0.9691 - val_loss: 0.0932 - val_accuracy: 0.9764\n",
            "Epoch 16/20\n",
            "235/235 [==============================] - 4s 17ms/step - loss: 0.1037 - accuracy: 0.9685 - val_loss: 0.0881 - val_accuracy: 0.9753\n",
            "Epoch 17/20\n",
            "235/235 [==============================] - 4s 16ms/step - loss: 0.1058 - accuracy: 0.9685 - val_loss: 0.0920 - val_accuracy: 0.9762\n",
            "Epoch 18/20\n",
            "235/235 [==============================] - 4s 17ms/step - loss: 0.1067 - accuracy: 0.9685 - val_loss: 0.0864 - val_accuracy: 0.9784\n",
            "Epoch 19/20\n",
            "235/235 [==============================] - 4s 17ms/step - loss: 0.0971 - accuracy: 0.9722 - val_loss: 0.0885 - val_accuracy: 0.9775\n",
            "Epoch 20/20\n",
            "235/235 [==============================] - 4s 16ms/step - loss: 0.0988 - accuracy: 0.9729 - val_loss: 0.0888 - val_accuracy: 0.9770\n"
          ],
          "name": "stdout"
        }
      ]
    },
    {
      "cell_type": "code",
      "metadata": {
        "colab": {
          "base_uri": "https://localhost:8080/",
          "height": 295
        },
        "id": "l5GCWkN_BvrW",
        "outputId": "e1de146f-3c99-41ef-cd77-b225554e1166"
      },
      "source": [
        "plt.plot(history_lexp.history['loss'])\n",
        "plt.title('With Exponential annealing on learning rate (Adam opt.)')\n",
        "plt.ylabel('Train loss')\n",
        "plt.xlabel('epochs')\n",
        "\n",
        "plt.show()"
      ],
      "execution_count": 54,
      "outputs": [
        {
          "output_type": "display_data",
          "data": {
            "image/png": "[encoded data removed]",
            "text/plain": [
              "<Figure size 432x288 with 1 Axes>"
            ]
          },
          "metadata": {
            "tags": [],
            "needs_background": "light"
          }
        }
      ]
    },
    {
      "cell_type": "code",
      "metadata": {
        "colab": {
          "base_uri": "https://localhost:8080/"
        },
        "id": "obffyWykB6SL",
        "outputId": "e452a4e6-428a-4783-8226-e9c632587e49"
      },
      "source": [
        "print(\"Test Accuracy = \",history_lexp.history['val_accuracy'][-1])"
      ],
      "execution_count": 55,
      "outputs": [
        {
          "output_type": "stream",
          "text": [
            "Test Accuracy =  0.9769999980926514\n"
          ],
          "name": "stdout"
        }
      ]
    },
    {
      "cell_type": "markdown",
      "metadata": {
        "id": "iQcoN93ICLL4"
      },
      "source": [
        "# **Part-2**"
      ]
    },
    {
      "cell_type": "markdown",
      "metadata": {
        "id": "4Uhqn0zX4wzp"
      },
      "source": [
        "## **Building Autoencoder**"
      ]
    },
    {
      "cell_type": "code",
      "metadata": {
        "colab": {
          "base_uri": "https://localhost:8080/"
        },
        "id": "KKbRwhMhCFIy",
        "outputId": "68c6b8a5-8f02-488f-ba72-a571e7491b30"
      },
      "source": [
        "input = keras.Input(shape=(784,))\n",
        "encoded = layers.Dense(128, activation='relu')(input)\n",
        "encoded = layers.Dense(32, activation='relu')(encoded)      # Bottleneck\n",
        "\n",
        "decoded = layers.Dense(128, activation='relu')(encoded)\n",
        "decoded = layers.Dense(784, activation='sigmoid')(decoded)\n",
        "\n",
        "autoencoder_model = keras.Model(inputs=input, outputs=decoded)\n",
        "autoencoder_model.compile(optimizer='adam', loss='binary_crossentropy')\n",
        "\n",
        "history_enc = autoencoder_model.fit(x_train, x_train, epochs=25, batch_size=256, shuffle=True, validation_data=(x_test, x_test))"
      ],
      "execution_count": 5,
      "outputs": [
        {
          "output_type": "stream",
          "text": [
            "Epoch 1/25\n",
            "235/235 [==============================] - 4s 16ms/step - loss: 0.3230 - val_loss: 0.1476\n",
            "Epoch 2/25\n",
            "235/235 [==============================] - 4s 15ms/step - loss: 0.1398 - val_loss: 0.1201\n",
            "Epoch 3/25\n",
            "235/235 [==============================] - 4s 15ms/step - loss: 0.1182 - val_loss: 0.1079\n",
            "Epoch 4/25\n",
            "235/235 [==============================] - 4s 15ms/step - loss: 0.1076 - val_loss: 0.1016\n",
            "Epoch 5/25\n",
            "235/235 [==============================] - 4s 15ms/step - loss: 0.1023 - val_loss: 0.0982\n",
            "Epoch 6/25\n",
            "235/235 [==============================] - 4s 15ms/step - loss: 0.0991 - val_loss: 0.0966\n",
            "Epoch 7/25\n",
            "235/235 [==============================] - 4s 15ms/step - loss: 0.0968 - val_loss: 0.0944\n",
            "Epoch 8/25\n",
            "235/235 [==============================] - 4s 15ms/step - loss: 0.0955 - val_loss: 0.0931\n",
            "Epoch 9/25\n",
            "235/235 [==============================] - 4s 15ms/step - loss: 0.0941 - val_loss: 0.0925\n",
            "Epoch 10/25\n",
            "235/235 [==============================] - 4s 15ms/step - loss: 0.0931 - val_loss: 0.0914\n",
            "Epoch 11/25\n",
            "235/235 [==============================] - 3s 15ms/step - loss: 0.0922 - val_loss: 0.0909\n",
            "Epoch 12/25\n",
            "235/235 [==============================] - 3s 15ms/step - loss: 0.0914 - val_loss: 0.0897\n",
            "Epoch 13/25\n",
            "235/235 [==============================] - 3s 15ms/step - loss: 0.0906 - val_loss: 0.0892\n",
            "Epoch 14/25\n",
            "235/235 [==============================] - 4s 15ms/step - loss: 0.0900 - val_loss: 0.0886\n",
            "Epoch 15/25\n",
            "235/235 [==============================] - 4s 15ms/step - loss: 0.0894 - val_loss: 0.0879\n",
            "Epoch 16/25\n",
            "235/235 [==============================] - 4s 15ms/step - loss: 0.0886 - val_loss: 0.0874\n",
            "Epoch 17/25\n",
            "235/235 [==============================] - 4s 15ms/step - loss: 0.0882 - val_loss: 0.0872\n",
            "Epoch 18/25\n",
            "235/235 [==============================] - 4s 15ms/step - loss: 0.0878 - val_loss: 0.0866\n",
            "Epoch 19/25\n",
            "235/235 [==============================] - 4s 15ms/step - loss: 0.0875 - val_loss: 0.0863\n",
            "Epoch 20/25\n",
            "235/235 [==============================] - 4s 15ms/step - loss: 0.0872 - val_loss: 0.0860\n",
            "Epoch 21/25\n",
            "235/235 [==============================] - 4s 15ms/step - loss: 0.0866 - val_loss: 0.0857\n",
            "Epoch 22/25\n",
            "235/235 [==============================] - 4s 15ms/step - loss: 0.0866 - val_loss: 0.0855\n",
            "Epoch 23/25\n",
            "235/235 [==============================] - 4s 15ms/step - loss: 0.0861 - val_loss: 0.0854\n",
            "Epoch 24/25\n",
            "235/235 [==============================] - 4s 16ms/step - loss: 0.0859 - val_loss: 0.0851\n",
            "Epoch 25/25\n",
            "235/235 [==============================] - 4s 15ms/step - loss: 0.0857 - val_loss: 0.0850\n"
          ],
          "name": "stdout"
        }
      ]
    },
    {
      "cell_type": "markdown",
      "metadata": {
        "id": "4UJDt4mA43F8"
      },
      "source": [
        "## **Extracting Feature representation from under complete autoencoder**"
      ]
    },
    {
      "cell_type": "code",
      "metadata": {
        "colab": {
          "base_uri": "https://localhost:8080/"
        },
        "id": "9aObOcw13rWH",
        "outputId": "04316255-2003-408f-a898-ad4468159af5"
      },
      "source": [
        "encoder_model = keras.Model(input, encoded)\n",
        "encoded_images_train = encoder_model.predict(x_train)\n",
        "encoded_images_test = encoder_model.predict(x_test)\n",
        "\n",
        "encoded_images_train.shape, encoded_images_test.shape"
      ],
      "execution_count": 6,
      "outputs": [
        {
          "output_type": "execute_result",
          "data": {
            "text/plain": [
              "((60000, 32), (10000, 32))"
            ]
          },
          "metadata": {
            "tags": []
          },
          "execution_count": 6
        }
      ]
    },
    {
      "cell_type": "markdown",
      "metadata": {
        "id": "f3R3_q5L4_tD"
      },
      "source": [
        "## **Training MLP on the reduced Features**"
      ]
    },
    {
      "cell_type": "code",
      "metadata": {
        "colab": {
          "base_uri": "https://localhost:8080/"
        },
        "id": "ncyncGnU4L34",
        "outputId": "71b819a0-7acb-4f3f-b026-1fa4851e11b4"
      },
      "source": [
        "MLP_model_enc = models.Sequential()\n",
        "MLP_model_enc.add(layers.Dense(512, input_shape = (encoded_images_train[0].shape), activation='relu'))\n",
        "MLP_model_enc.add(layers.Dropout(0.5))\n",
        "MLP_model_enc.add(layers.Dense(64, activation = 'relu'))\n",
        "MLP_model_enc.add(layers.Dense(10, activation='softmax'))\n",
        "\n",
        "MLP_model_enc.summary()"
      ],
      "execution_count": 14,
      "outputs": [
        {
          "output_type": "stream",
          "text": [
            "Model: \"sequential_2\"\n",
            "_________________________________________________________________\n",
            "Layer (type)                 Output Shape              Param #   \n",
            "=================================================================\n",
            "dense_10 (Dense)             (None, 512)               16896     \n",
            "_________________________________________________________________\n",
            "dropout_2 (Dropout)          (None, 512)               0         \n",
            "_________________________________________________________________\n",
            "dense_11 (Dense)             (None, 64)                32832     \n",
            "_________________________________________________________________\n",
            "dense_12 (Dense)             (None, 10)                650       \n",
            "=================================================================\n",
            "Total params: 50,378\n",
            "Trainable params: 50,378\n",
            "Non-trainable params: 0\n",
            "_________________________________________________________________\n"
          ],
          "name": "stdout"
        }
      ]
    },
    {
      "cell_type": "code",
      "metadata": {
        "colab": {
          "base_uri": "https://localhost:8080/"
        },
        "id": "o-yDcOQjDSoJ",
        "outputId": "ea528aa6-f428-49fb-de2d-a706bbacebca"
      },
      "source": [
        "opt = keras.optimizers.Adam()\n",
        "MLP_model_enc.compile(optimizer=opt, loss='categorical_crossentropy', metrics=['accuracy'])\n",
        "\n",
        "history_MLPenc = MLP_model_enc.fit(encoded_images_train, y_train, epochs=20, batch_size=256, validation_data=(encoded_images_test,y_test))"
      ],
      "execution_count": 15,
      "outputs": [
        {
          "output_type": "stream",
          "text": [
            "Epoch 1/20\n",
            "235/235 [==============================] - 2s 7ms/step - loss: 1.6307 - accuracy: 0.5153 - val_loss: 0.2901 - val_accuracy: 0.9135\n",
            "Epoch 2/20\n",
            "235/235 [==============================] - 1s 6ms/step - loss: 0.3789 - accuracy: 0.8806 - val_loss: 0.2075 - val_accuracy: 0.9390\n",
            "Epoch 3/20\n",
            "235/235 [==============================] - 1s 6ms/step - loss: 0.2874 - accuracy: 0.9100 - val_loss: 0.1681 - val_accuracy: 0.9490\n",
            "Epoch 4/20\n",
            "235/235 [==============================] - 1s 6ms/step - loss: 0.2335 - accuracy: 0.9269 - val_loss: 0.1456 - val_accuracy: 0.9533\n",
            "Epoch 5/20\n",
            "235/235 [==============================] - 1s 6ms/step - loss: 0.2129 - accuracy: 0.9342 - val_loss: 0.1306 - val_accuracy: 0.9595\n",
            "Epoch 6/20\n",
            "235/235 [==============================] - 1s 6ms/step - loss: 0.1905 - accuracy: 0.9400 - val_loss: 0.1154 - val_accuracy: 0.9636\n",
            "Epoch 7/20\n",
            "235/235 [==============================] - 1s 6ms/step - loss: 0.1841 - accuracy: 0.9429 - val_loss: 0.1082 - val_accuracy: 0.9667\n",
            "Epoch 8/20\n",
            "235/235 [==============================] - 1s 6ms/step - loss: 0.1637 - accuracy: 0.9485 - val_loss: 0.1104 - val_accuracy: 0.9642\n",
            "Epoch 9/20\n",
            "235/235 [==============================] - 1s 6ms/step - loss: 0.1641 - accuracy: 0.9477 - val_loss: 0.1070 - val_accuracy: 0.9669\n",
            "Epoch 10/20\n",
            "235/235 [==============================] - 1s 6ms/step - loss: 0.1587 - accuracy: 0.9493 - val_loss: 0.1039 - val_accuracy: 0.9652\n",
            "Epoch 11/20\n",
            "235/235 [==============================] - 1s 6ms/step - loss: 0.1505 - accuracy: 0.9529 - val_loss: 0.0937 - val_accuracy: 0.9693\n",
            "Epoch 12/20\n",
            "235/235 [==============================] - 1s 6ms/step - loss: 0.1481 - accuracy: 0.9551 - val_loss: 0.0969 - val_accuracy: 0.9692\n",
            "Epoch 13/20\n",
            "235/235 [==============================] - 1s 6ms/step - loss: 0.1347 - accuracy: 0.9591 - val_loss: 0.0867 - val_accuracy: 0.9739\n",
            "Epoch 14/20\n",
            "235/235 [==============================] - 1s 6ms/step - loss: 0.1386 - accuracy: 0.9552 - val_loss: 0.0956 - val_accuracy: 0.9715\n",
            "Epoch 15/20\n",
            "235/235 [==============================] - 1s 6ms/step - loss: 0.1362 - accuracy: 0.9554 - val_loss: 0.0842 - val_accuracy: 0.9727\n",
            "Epoch 16/20\n",
            "235/235 [==============================] - 1s 6ms/step - loss: 0.1256 - accuracy: 0.9607 - val_loss: 0.0835 - val_accuracy: 0.9721\n",
            "Epoch 17/20\n",
            "235/235 [==============================] - 1s 6ms/step - loss: 0.1285 - accuracy: 0.9595 - val_loss: 0.0844 - val_accuracy: 0.9748\n",
            "Epoch 18/20\n",
            "235/235 [==============================] - 1s 6ms/step - loss: 0.1292 - accuracy: 0.9594 - val_loss: 0.0835 - val_accuracy: 0.9741\n",
            "Epoch 19/20\n",
            "235/235 [==============================] - 1s 6ms/step - loss: 0.1244 - accuracy: 0.9592 - val_loss: 0.0803 - val_accuracy: 0.9736\n",
            "Epoch 20/20\n",
            "235/235 [==============================] - 1s 6ms/step - loss: 0.1193 - accuracy: 0.9616 - val_loss: 0.0774 - val_accuracy: 0.9744\n"
          ],
          "name": "stdout"
        }
      ]
    },
    {
      "cell_type": "markdown",
      "metadata": {
        "id": "WKou23NW5FPs"
      },
      "source": [
        "## **Comparison with the best model from Part-1**"
      ]
    },
    {
      "cell_type": "markdown",
      "metadata": {
        "id": "r8j4G5qy5X44"
      },
      "source": [
        "The Best model from part 1 was the model with Adam optimizer and Xavier Normal initialization"
      ]
    },
    {
      "cell_type": "code",
      "metadata": {
        "colab": {
          "base_uri": "https://localhost:8080/"
        },
        "id": "bj4KP5HX4q25",
        "outputId": "72580a1d-6ca2-4cc9-ab78-f926a7b1b961"
      },
      "source": [
        "from prettytable import PrettyTable\n",
        "l = [[\"With Adam opt. and Xavier Normal init.\", history_XN.history['accuracy'][-1], history_XN.history['val_accuracy'][-1], history_XN.history['loss'][-1], history_XN.history['val_loss'][-1]],\n",
        "     [\"MLP with reduced features\", history_MLPenc.history['accuracy'][-1], history_MLPenc.history['val_accuracy'][-1], history_MLPenc.history['loss'][-1], history_MLPenc.history['val_loss'][-1]],\n",
        "    ]\n",
        "\n",
        "table = PrettyTable(['Model','Train Accuracy', 'Test Accuracy', 'Train loss', 'Test loss'])\n",
        "for rec in l:\n",
        "    table.add_row(rec)\n",
        "print(table)"
      ],
      "execution_count": 16,
      "outputs": [
        {
          "output_type": "stream",
          "text": [
            "+----------------------------------------+--------------------+--------------------+----------------------+----------------------+\n",
            "|                 Model                  |   Train Accuracy   |   Test Accuracy    |      Train loss      |      Test loss       |\n",
            "+----------------------------------------+--------------------+--------------------+----------------------+----------------------+\n",
            "| With Adam opt. and Xavier Normal init. | 0.9903333187103271 | 0.9836999773979187 | 0.028605900704860687 | 0.060268890112638474 |\n",
            "|       MLP with reduced features        | 0.9607333540916443 | 0.974399983882904  | 0.12340594828128815  | 0.07739292085170746  |\n",
            "+----------------------------------------+--------------------+--------------------+----------------------+----------------------+\n"
          ],
          "name": "stdout"
        }
      ]
    },
    {
      "cell_type": "code",
      "metadata": {
        "colab": {
          "base_uri": "https://localhost:8080/",
          "height": 297
        },
        "id": "3aXcFz2Q6UMJ",
        "outputId": "59c565f9-bc50-4638-d129-7b89710f1f25"
      },
      "source": [
        "plt.plot(history_XN.history['accuracy'], label='Part-1 accuracy')\n",
        "plt.plot(history_MLPenc.history['accuracy'], label = 'Reduced feature accuracy')\n",
        "plt.xlabel('Epoch')\n",
        "plt.ylabel('Accuracy')\n",
        "plt.legend(loc='lower right')"
      ],
      "execution_count": 13,
      "outputs": [
        {
          "output_type": "execute_result",
          "data": {
            "text/plain": [
              "<matplotlib.legend.Legend at 0x7fbf0083be10>"
            ]
          },
          "metadata": {
            "tags": []
          },
          "execution_count": 13
        },
        {
          "output_type": "display_data",
          "data": {
            "image/png": "[encoded data removed]",
            "text/plain": [
              "<Figure size 432x288 with 1 Axes>"
            ]
          },
          "metadata": {
            "tags": [],
            "needs_background": "light"
          }
        }
      ]
    }
  ]
}