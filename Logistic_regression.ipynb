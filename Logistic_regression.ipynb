{
 "cells": [
  {
   "cell_type": "markdown",
   "metadata": {},
   "source": [
    "You need to implement Logistic Regression from scratch in this question"
   ]
  },
  {
   "cell_type": "markdown",
   "metadata": {},
   "source": [
    "1. You are provided with the dataset of sign language digits. Implement logistic regression from scratch to classify the images provided in the dataset. Load the dataset and perform splitting into training and test sets with 70:30 ratio randomly using test train split.\n",
    "2. Plot a diagram for the sigmoid function. This is used for binary classi\u0000cation. How do you modify it for multilabel dataset classification problems? State and Explain the methods used.\n",
    "3. Use both one vs all and one vs one method for the above problem statement purpose.\n",
    "4. Also get results using Log Reg from scikit learn.\n",
    "5. Report accuracy score, Confusion matrix and any other metrics you feel useful and Compare the results - from all the three.\n",
    "\n",
    "\n",
    "\n",
    "[BONUS]\n",
    "6. Display few pictures with their predicted and original labels \n",
    "7. Do the results differ? State the reasons why it is so.\n"
   ]
  },
  {
   "cell_type": "markdown",
   "metadata": {},
   "source": [
    "dataset link : \n",
    "https://iiitaphyd-my.sharepoint.com/:f:/g/personal/apurva_jadhav_students_iiit_ac_in/Eictt5_qmoxNqezgQQiMWeIBph4sxlfA6jWAJNPnV2SF9Q?e=mQmYN0 \n",
    "\n",
    "                "
   ]
  },
  {
   "cell_type": "code",
   "execution_count": 4,
   "metadata": {},
   "outputs": [],
   "source": [
    "import numpy as np\n",
    "import matplotlib.pyplot as plt\n",
    "from sklearn.model_selection import train_test_split\n",
    "from sklearn.preprocessing import StandardScaler\n",
    "\n",
    "dataset_path = \"Logistic_Regression_dataset/\"\n",
    "x_l = np.load(dataset_path+\"X.npy\") # image\n",
    "y_l = np.load(dataset_path+\"Y.npy\") # label\n",
    "\n",
    "y_l = np.argwhere(y_l==1)\n",
    "x_l = x_l.astype(np.float64).reshape(-1,64*64)\n",
    "scaler = StandardScaler().fit(x_l)\n",
    "x_l = scaler.transform(x_l)\n",
    "\n",
    "trainX, testX, trainy, testy = train_test_split(x_l, y_l[:,1:2].reshape(y_l.shape[0]), test_size=0.3, random_state=13)"
   ]
  },
  {
   "cell_type": "code",
   "execution_count": 5,
   "metadata": {},
   "outputs": [
    {
     "name": "stdout",
     "output_type": "stream",
     "text": [
      "(2062, 4096)\n",
      "(2062, 2)\n",
      "0\n",
      "(1443, 4096) (619, 4096) (1443,) (619,)\n",
      "s  144\n",
      "s  143\n",
      "s  150\n",
      "s  141\n",
      "s  142\n",
      "s  145\n",
      "s  145\n",
      "s  143\n",
      "s  145\n",
      "s  145\n"
     ]
    },
    {
     "data": {
      "image/png": "[encoded data removed]",
      "text/plain": [
       "<Figure size 432x288 with 1 Axes>"
      ]
     },
     "metadata": {
      "needs_background": "light"
     },
     "output_type": "display_data"
    }
   ],
   "source": [
    "print(x_l.shape)\n",
    "print(y_l.shape)\n",
    "print(testy[np.argmin(testy)])\n",
    "# plt.figure()\n",
    "# f, axarr = plt.subplots(5,1)\n",
    "# for i in range(5):\n",
    "#     axarr[i].imshow(x_l[i+2000])\n",
    "#     print(y_l[i+2000])\n",
    "%matplotlib inline\n",
    "print(trainX.shape,testX.shape,trainy.shape, testy.shape)\n",
    "def sigmoid(x):\n",
    "    return 1/(1+np.exp(-x))\n",
    "x = np.linspace(-10, 10, 100) \n",
    "y = sigmoid(x)\n",
    "plt.plot(x,y)\n",
    "plt.xlabel(\"x\") \n",
    "plt.ylabel(\"Sigmoid(x)\")\n",
    "\n",
    "for i in range(10):\n",
    "    print(\"s \",(trainy==i).sum())"
   ]
  },
  {
   "cell_type": "markdown",
   "metadata": {},
   "source": [
    "* The above plotted sigmoid function is used for binary classification.\n",
    "* To perform multi-class classification, we have to strategies as follows:\n",
    "    - **One vs One:** For n classes, we have nC2 classifiers, i.e. all permutations of the classes. Then we pick according to overall prediction of them\n",
    "    \n",
    "    - **One vs All:** For n classes, here we have n classifiers like this, 1st class vs all others, 2nd class vs all others and so on."
   ]
  },
  {
   "cell_type": "code",
   "execution_count": 10,
   "metadata": {},
   "outputs": [],
   "source": [
    "def diff_g(w,x,y):\n",
    "    y_minus_sigmoid_wtx = sigmoid(np.dot(x,w)) - y\n",
    "    return np.dot(x.T,y_minus_sigmoid_wtx)\n",
    "\n",
    "def gradient_descent(x,y, num_iterations = 2000, learning_rate = 0.02):\n",
    "    w = np.zeros(x.shape[1])\n",
    "#     print(w.shape)\n",
    "    for i in range(num_iterations):\n",
    "        w = w - (learning_rate * diff_g(w,x,y))\n",
    "    return w\n",
    "\n",
    "def get_w_after_training(x,y):\n",
    "    x = x/255.0\n",
    "    x = np.c_[x, np.ones(x.shape[0])]\n",
    "#     print(x.shape)\n",
    "    return gradient_descent(x,y)\n",
    "\n",
    "def predict(w,x):\n",
    "    x = np.c_[x, np.ones(x.shape[0])]\n",
    "    sigm = sigmoid(np.dot(w.T,x.T))\n",
    "    sigm[sigm > 0.5] = 1\n",
    "    sigm[sigm <= 0.5] = 0\n",
    "    return sigm"
   ]
  },
  {
   "cell_type": "code",
   "execution_count": 7,
   "metadata": {},
   "outputs": [],
   "source": [
    "def get_data_with_given_labels_two_at_a_time(l1,l2):\n",
    "    temp_indices = np.argwhere((trainy==l1) | (trainy==l2))\n",
    "    temp_trainy = trainy[temp_indices]\n",
    "    temp_trainy = temp_trainy.reshape(temp_trainy.shape[0])\n",
    "    temp_trainX = trainX[temp_indices]\n",
    "    temp_trainX = temp_trainX.reshape(temp_trainX.shape[0],temp_trainX.shape[2])\n",
    "    temp_trainy[temp_trainy==l1] = 0\n",
    "    temp_trainy[temp_trainy==l2] = 1\n",
    "\n",
    "#     temp_indices = np.argwhere((testy==l1) | (testy==l2))\n",
    "#     temp_testy = testy[temp_indices]\n",
    "#     temp_testy = temp_testy.reshape(temp_testy.shape[0])\n",
    "#     temp_testX = testX[temp_indices]\n",
    "#     temp_testX = temp_testX.reshape(temp_testX.shape[0],temp_testX.shape[2])\n",
    "#     temp_testy[temp_testy==l1] = 0\n",
    "#     temp_testy[temp_testy==l2] = 1\n",
    "    return temp_trainX, temp_trainy\n",
    "\n",
    "def predict_using_one_vs_one():\n",
    "    w_classifiers = []\n",
    "    predicted_labels_for_each_classifier = []\n",
    "    for i in range(10):\n",
    "        for j in range(i+1,10):\n",
    "            print(\"Building classifier \",i,j)\n",
    "            temp_trainX, temp_trainy = get_data_with_given_labels_two_at_a_time(i,j)\n",
    "            w_obtained = get_w_after_training(temp_trainX,temp_trainy)\n",
    "            w_classifiers.append(w_obtained)\n",
    "            pred = predict(w_obtained,testX)\n",
    "            pred[pred==0] = i\n",
    "            pred[pred==1] = j\n",
    "            predicted_labels_for_each_classifier.append(pred)\n",
    "    ans = np.zeros(testX.shape[0])\n",
    "    predicted_labels_for_each_classifier = np.array(predicted_labels_for_each_classifier,dtype= int)\n",
    "    for i in range(ans.shape[0]):\n",
    "        ans[i] = np.argmax(np.bincount(predicted_labels_for_each_classifier[:,i]))\n",
    "    return ans, predicted_labels_for_each_classifier"
   ]
  },
  {
   "cell_type": "code",
   "execution_count": 8,
   "metadata": {
    "scrolled": true
   },
   "outputs": [
    {
     "name": "stdout",
     "output_type": "stream",
     "text": [
      "Building classifier  0 1\n"
     ]
    },
    {
     "name": "stderr",
     "output_type": "stream",
     "text": [
      "<ipython-input-5-cf32105af97e>:12: RuntimeWarning: overflow encountered in exp\n",
      "  return 1/(1+np.exp(-x))\n"
     ]
    },
    {
     "name": "stdout",
     "output_type": "stream",
     "text": [
      "Building classifier  0 2\n",
      "Building classifier  0 3\n",
      "Building classifier  0 4\n",
      "Building classifier  0 5\n",
      "Building classifier  0 6\n",
      "Building classifier  0 7\n",
      "Building classifier  0 8\n",
      "Building classifier  0 9\n",
      "Building classifier  1 2\n",
      "Building classifier  1 3\n",
      "Building classifier  1 4\n",
      "Building classifier  1 5\n",
      "Building classifier  1 6\n",
      "Building classifier  1 7\n",
      "Building classifier  1 8\n",
      "Building classifier  1 9\n",
      "Building classifier  2 3\n",
      "Building classifier  2 4\n",
      "Building classifier  2 5\n",
      "Building classifier  2 6\n",
      "Building classifier  2 7\n",
      "Building classifier  2 8\n",
      "Building classifier  2 9\n",
      "Building classifier  3 4\n",
      "Building classifier  3 5\n",
      "Building classifier  3 6\n",
      "Building classifier  3 7\n",
      "Building classifier  3 8\n",
      "Building classifier  3 9\n",
      "Building classifier  4 5\n",
      "Building classifier  4 6\n",
      "Building classifier  4 7\n",
      "Building classifier  4 8\n",
      "Building classifier  4 9\n",
      "Building classifier  5 6\n",
      "Building classifier  5 7\n",
      "Building classifier  5 8\n",
      "Building classifier  5 9\n",
      "Building classifier  6 7\n",
      "Building classifier  6 8\n",
      "Building classifier  6 9\n",
      "Building classifier  7 8\n",
      "Building classifier  7 9\n",
      "Building classifier  8 9\n"
     ]
    },
    {
     "data": {
      "text/plain": [
       "array([0., 9., 0., 4., 9., 3., 7., 6., 4., 4., 9., 0., 0., 3., 7., 9., 2.,\n",
       "       2., 4., 5., 9., 5., 2., 8., 5., 7., 3., 4., 5., 7., 4., 7., 8., 0.,\n",
       "       4., 5., 8., 6., 4., 4., 2., 0., 7., 8., 9., 2., 2., 4., 4., 0., 3.,\n",
       "       0., 7., 4., 7., 0., 7., 9., 0., 7., 0., 3., 0., 0., 4., 9., 3., 8.,\n",
       "       4., 8., 9., 0., 2., 2., 4., 2., 9., 2., 3., 9., 4., 7., 7., 4., 8.,\n",
       "       3., 3., 5., 4., 5., 5., 3., 9., 7., 2., 4., 3., 9., 0., 3., 4., 7.,\n",
       "       4., 4., 0., 3., 9., 8., 2., 4., 4., 4., 9., 5., 3., 8., 4., 3., 6.,\n",
       "       5., 7., 3., 7., 8., 8., 0., 3., 4., 3., 8., 7., 7., 8., 0., 9., 4.,\n",
       "       2., 4., 4., 9., 5., 0., 5., 2., 9., 4., 4., 6., 6., 4., 6., 7., 3.,\n",
       "       8., 5., 4., 2., 5., 3., 8., 8., 5., 3., 0., 8., 0., 7., 5., 4., 3.,\n",
       "       0., 4., 0., 0., 9., 7., 4., 9., 4., 7., 9., 3., 5., 7., 8., 0., 0.,\n",
       "       9., 5., 0., 4., 4., 6., 0., 6., 7., 7., 3., 9., 4., 0., 7., 2., 6.,\n",
       "       5., 7., 5., 6., 8., 9., 9., 5., 8., 3., 6., 4., 2., 8., 9., 2., 4.,\n",
       "       0., 7., 3., 9., 8., 2., 9., 8., 8., 4., 5., 2., 9., 7., 9., 4., 0.,\n",
       "       7., 5., 4., 4., 3., 9., 2., 5., 4., 4., 0., 0., 7., 0., 8., 7., 3.,\n",
       "       9., 0., 0., 5., 6., 3., 8., 0., 0., 4., 9., 9., 3., 4., 6., 3., 8.,\n",
       "       3., 7., 9., 3., 7., 7., 3., 4., 0., 0., 7., 3., 7., 9., 8., 5., 2.,\n",
       "       4., 3., 4., 3., 8., 3., 8., 9., 7., 3., 3., 0., 9., 3., 3., 2., 8.,\n",
       "       9., 5., 6., 7., 9., 2., 7., 0., 4., 5., 4., 4., 3., 3., 4., 8., 6.,\n",
       "       2., 4., 4., 5., 0., 0., 6., 0., 3., 2., 4., 5., 8., 0., 3., 0., 2.,\n",
       "       3., 0., 0., 3., 4., 4., 6., 2., 4., 5., 9., 9., 8., 0., 7., 2., 5.,\n",
       "       5., 6., 0., 5., 9., 3., 0., 4., 4., 3., 4., 4., 2., 2., 3., 5., 7.,\n",
       "       5., 5., 2., 8., 2., 3., 9., 5., 4., 6., 2., 0., 5., 5., 7., 9., 7.,\n",
       "       5., 2., 3., 6., 4., 0., 3., 8., 7., 3., 3., 0., 4., 0., 3., 4., 2.,\n",
       "       2., 9., 0., 3., 0., 7., 3., 4., 3., 6., 0., 8., 4., 0., 4., 7., 0.,\n",
       "       8., 7., 7., 4., 6., 2., 4., 7., 4., 9., 6., 7., 2., 7., 2., 3., 5.,\n",
       "       2., 9., 5., 6., 9., 8., 4., 4., 8., 6., 2., 5., 7., 4., 3., 5., 8.,\n",
       "       5., 7., 3., 3., 9., 8., 4., 3., 6., 0., 4., 4., 2., 6., 5., 0., 5.,\n",
       "       6., 4., 4., 5., 5., 4., 7., 4., 3., 8., 7., 0., 5., 2., 3., 2., 9.,\n",
       "       4., 0., 8., 5., 6., 3., 9., 7., 3., 7., 2., 6., 7., 7., 3., 7., 4.,\n",
       "       6., 7., 9., 7., 4., 9., 2., 4., 6., 6., 8., 7., 7., 0., 0., 3., 5.,\n",
       "       4., 4., 9., 0., 4., 5., 9., 2., 7., 5., 7., 8., 4., 3., 6., 3., 9.,\n",
       "       4., 2., 3., 8., 9., 3., 8., 0., 7., 3., 4., 6., 4., 3., 3., 9., 6.,\n",
       "       4., 5., 2., 5., 5., 6., 8., 0., 9., 5., 6., 9., 3., 7., 6., 4., 4.,\n",
       "       9., 4., 8., 6., 5., 9., 4., 2., 0., 4., 4., 5., 3., 4., 7., 7., 4.,\n",
       "       9., 3., 9., 2., 8., 6., 9., 8., 4., 0., 8., 3., 4., 8., 7., 2., 5.,\n",
       "       9., 0., 9., 0., 5., 4., 8.])"
      ]
     },
     "execution_count": 8,
     "metadata": {},
     "output_type": "execute_result"
    }
   ],
   "source": [
    "predicted_one_vs_one, temp_debugging = predict_using_one_vs_one()\n",
    "predicted_one_vs_one"
   ]
  },
  {
   "cell_type": "code",
   "execution_count": 9,
   "metadata": {},
   "outputs": [
    {
     "name": "stdout",
     "output_type": "stream",
     "text": [
      "Accuracy =  68.33602584814217 %\n"
     ]
    }
   ],
   "source": [
    "accuracy_oneVsone = (testy==predicted_one_vs_one).mean()*100\n",
    "print(\"Accuracy = \",accuracy_oneVsone,\"%\")"
   ]
  },
  {
   "cell_type": "code",
   "execution_count": 13,
   "metadata": {},
   "outputs": [],
   "source": [
    "def get_data_with_given_label(i):\n",
    "    temp_trainy = np.copy(trainy)\n",
    "    indices_i = (temp_trainy==i)\n",
    "    temp_trainy[indices_i] = 0\n",
    "    temp_trainy[~indices_i] = 1\n",
    "#     print(indices_i)\n",
    "    return temp_trainy\n",
    "\n",
    "def predict_using_one_vs_all():\n",
    "    w_classifiers = []\n",
    "    for i in range(10):\n",
    "        print(\"Building classifier #\",i)\n",
    "        temp_trainy = get_data_with_given_label(i)\n",
    "        w_obtained = get_w_after_training(trainX,temp_trainy)\n",
    "        w_classifiers.append(w_obtained)\n",
    "    w_classifiers = np.array(w_classifiers)\n",
    "    tempx = np.c_[testX, np.ones(testX.shape[0])]\n",
    "    pred = sigmoid(np.dot(w_classifiers,tempx.T))\n",
    "    return pred.argmin(axis=0)"
   ]
  },
  {
   "cell_type": "code",
   "execution_count": 14,
   "metadata": {},
   "outputs": [
    {
     "name": "stdout",
     "output_type": "stream",
     "text": [
      "Building classifier # 0\n",
      "Building classifier # 1\n",
      "Building classifier # 2\n",
      "Building classifier # 3\n",
      "Building classifier # 4\n",
      "Building classifier # 5\n",
      "Building classifier # 6\n",
      "Building classifier # 7\n",
      "Building classifier # 8\n",
      "Building classifier # 9\n"
     ]
    },
    {
     "name": "stderr",
     "output_type": "stream",
     "text": [
      "<ipython-input-5-cf32105af97e>:12: RuntimeWarning: overflow encountered in exp\n",
      "  return 1/(1+np.exp(-x))\n"
     ]
    }
   ],
   "source": [
    "predicted_one_vs_all = predict_using_one_vs_all()"
   ]
  },
  {
   "cell_type": "code",
   "execution_count": 15,
   "metadata": {},
   "outputs": [
    {
     "name": "stdout",
     "output_type": "stream",
     "text": [
      "Accuracy One vs All =  74.63651050080774 %\n"
     ]
    }
   ],
   "source": [
    "accuracy_oneVsall = (testy==predicted_one_vs_all).mean()*100\n",
    "print(\"Accuracy One vs All = \",accuracy_oneVsall,\"%\")"
   ]
  },
  {
   "cell_type": "markdown",
   "metadata": {},
   "source": [
    "### Scikit learn Logistic Regression"
   ]
  },
  {
   "cell_type": "code",
   "execution_count": 16,
   "metadata": {},
   "outputs": [
    {
     "data": {
      "text/plain": [
       "LogisticRegression(max_iter=1000)"
      ]
     },
     "execution_count": 16,
     "metadata": {},
     "output_type": "execute_result"
    }
   ],
   "source": [
    "from sklearn.linear_model import LogisticRegression\n",
    "\n",
    "# print(trainX.shape)\n",
    "# print(trainy.shape)\n",
    "# print(testX.shape)\n",
    "# print(testy.shape)\n",
    "# plt.imshow(trainX[2].reshape(64,64))\n",
    "# print(trainy[2])\n",
    "\n",
    "clf = LogisticRegression(max_iter=1000)\n",
    "clf.fit(trainX, trainy)"
   ]
  },
  {
   "cell_type": "code",
   "execution_count": 17,
   "metadata": {},
   "outputs": [
    {
     "name": "stdout",
     "output_type": "stream",
     "text": [
      "76.09046849757674\n"
     ]
    }
   ],
   "source": [
    "accuracy_sklearn = clf.score(testX,testy)*100\n",
    "print(accuracy_sklearn)\n",
    "# predicted_sklearn = clf.predict(testX)\n",
    "# (testy==predicted_sklearn).mean()"
   ]
  },
  {
   "cell_type": "markdown",
   "metadata": {},
   "source": [
    "### Comparison metrics for the 3 methods"
   ]
  },
  {
   "cell_type": "code",
   "execution_count": 18,
   "metadata": {},
   "outputs": [
    {
     "name": "stdout",
     "output_type": "stream",
     "text": [
      "+--------------------+----------------------+----------------------+-------------------+\n",
      "| Performance metric | Log. Reg. One vs One | Log. Reg. One vs All | Sklearn Log. Reg. |\n",
      "+--------------------+----------------------+----------------------+-------------------+\n",
      "|      Accuracy      |  68.33602584814217   |  74.63651050080774   | 76.09046849757674 |\n",
      "+--------------------+----------------------+----------------------+-------------------+\n"
     ]
    }
   ],
   "source": [
    "from prettytable import PrettyTable\n",
    "\n",
    "l = [[\"Accuracy\",accuracy_oneVsone,accuracy_oneVsall,accuracy_sklearn]]\n",
    "# Heat map, confusion matrix\n",
    "table = PrettyTable(['Performance metric','Log. Reg. One vs One', 'Log. Reg. One vs All', 'Sklearn Log. Reg.'])\n",
    "\n",
    "for rec in l:\n",
    "    table.add_row(rec)\n",
    "    \n",
    "print(table)"
   ]
  },
  {
   "cell_type": "markdown",
   "metadata": {},
   "source": [
    "### Some plots and there labels"
   ]
  },
  {
   "cell_type": "code",
   "execution_count": 25,
   "metadata": {},
   "outputs": [],
   "source": [
    "def show_true_and_predicted(i):\n",
    "    plt.imshow(testX[i].reshape(64,64))\n",
    "    plt.title(\"Real: \"+str(testy[i])+\" Predicted: \"+str(predicted_one_vs_all[i]))"
   ]
  },
  {
   "cell_type": "code",
   "execution_count": 29,
   "metadata": {},
   "outputs": [
    {
     "data": {
      "image/png": "[encoded data removed]",
      "text/plain": [
       "<Figure size 432x288 with 1 Axes>"
      ]
     },
     "metadata": {
      "needs_background": "light"
     },
     "output_type": "display_data"
    }
   ],
   "source": [
    "show_true_and_predicted(0)"
   ]
  },
  {
   "cell_type": "code",
   "execution_count": 30,
   "metadata": {},
   "outputs": [
    {
     "data": {
      "image/png": "[encoded data removed]",
      "text/plain": [
       "<Figure size 432x288 with 1 Axes>"
      ]
     },
     "metadata": {
      "needs_background": "light"
     },
     "output_type": "display_data"
    }
   ],
   "source": [
    "show_true_and_predicted(9)"
   ]
  },
  {
   "cell_type": "code",
   "execution_count": 32,
   "metadata": {},
   "outputs": [
    {
     "data": {
      "image/png": "[encoded data removed]",
      "text/plain": [
       "<Figure size 432x288 with 1 Axes>"
      ]
     },
     "metadata": {
      "needs_background": "light"
     },
     "output_type": "display_data"
    }
   ],
   "source": [
    "show_true_and_predicted(16)"
   ]
  },
  {
   "cell_type": "code",
   "execution_count": 33,
   "metadata": {},
   "outputs": [
    {
     "data": {
      "image/png": "[encoded data removed]",
      "text/plain": [
       "<Figure size 432x288 with 1 Axes>"
      ]
     },
     "metadata": {
      "needs_background": "light"
     },
     "output_type": "display_data"
    }
   ],
   "source": [
    "show_true_and_predicted(150)"
   ]
  }
 ],
 "metadata": {
  "kernelspec": {
   "display_name": "Python 3",
   "language": "python",
   "name": "python3"
  },
  "language_info": {
   "codemirror_mode": {
    "name": "ipython",
    "version": 3
   },
   "file_extension": ".py",
   "mimetype": "text/x-python",
   "name": "python",
   "nbconvert_exporter": "python",
   "pygments_lexer": "ipython3",
   "version": "3.8.5"
  }
 },
 "nbformat": 4,
 "nbformat_minor": 4
}
