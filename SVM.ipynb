{
 "cells": [
  {
   "cell_type": "markdown",
   "metadata": {},
   "source": [
    "# Support Vector Machines\n",
    "\n",
    "In this section of the assignment, you will get to implement Support Vector Machines which are among the best (and many believe are indeed the best)“off-the-shelf” supervised learning algorithm.\n",
    "\n",
    "This section is further divided into 3 subsections.\n",
    "\n",
    "\n",
    "*   In the first subsection, you will work on a synthetic dataset and visualize the boundary predicted by SVM. You will also vary the value of C-parameter and see how the decision boundary changes. **Please note that you cannot use inbuilt sklearn function for SVM in this sub-section**. You can only use a QCQP (Quadratically Constrained Quadratic Program) solver like CVXPY. \n",
    "\n",
    "  References which you may find helpful for this subsection: \n",
    "  \n",
    "  1.   https://www.cvxpy.org/\n",
    "  2.   https://www.cvxpy.org/examples/basic/quadratic_program.html\n",
    "\n",
    "  Note that in this section you are expected to show how you derived the Quadratically Constrained form(which can be passed into the solver) from the basic principles of SVM algorithm\n",
    "*  In the next subsection you will use be using the famous MNIST dataset to explore various kernels and report the results. **Please note you may use inbuilt sklearn SVM functions in this subsection**\n"
   ]
  },
  {
   "cell_type": "code",
   "execution_count": 171,
   "metadata": {},
   "outputs": [],
   "source": [
    "import numpy as np\n",
    "import cvxpy as cp\n",
    "import matplotlib.pyplot as plt"
   ]
  },
  {
   "cell_type": "markdown",
   "metadata": {},
   "source": [
    "### Subsection 1"
   ]
  },
  {
   "cell_type": "code",
   "execution_count": 172,
   "metadata": {},
   "outputs": [],
   "source": [
    "# Feel free to use this helper function to visualize 2D points X with labels +1 or -1\n",
    "def plot_points(X, Y):\n",
    "    reds = []\n",
    "    blues = []\n",
    "    for i in range(Y.shape[0]):\n",
    "        if Y[i] == 1:\n",
    "            reds.append(X[i])\n",
    "        else:\n",
    "            blues.append(X[i])\n",
    "    reds = np.array(reds)\n",
    "    blues = np.array(blues)\n",
    "    plt.scatter(reds[:, 0], reds[:, 1], c = 'r')\n",
    "    plt.scatter(blues[:, 0], blues[:, 1], c = 'b')"
   ]
  },
  {
   "cell_type": "code",
   "execution_count": 208,
   "metadata": {},
   "outputs": [
    {
     "data": {
      "image/png": "[encoded data removed]",
      "text/plain": [
       "<Figure size 432x288 with 1 Axes>"
      ]
     },
     "metadata": {
      "needs_background": "light"
     },
     "output_type": "display_data"
    }
   ],
   "source": [
    "# Create Synthetic Data and visualize the points\n",
    "X = np.array([[-3.5, -1], [-3, 0], [-3, 1], [-2.7, -1.3], [-2, -1], [-2, -2.7], \n",
    "              [-1, -2.5], [0, -3], [-1.1, 0], [0, 2.5], [1, 2], [0.7, 4], \n",
    "              [2.1, 0.2], [2.3, 1], [2.8, 1.8], [2.2, 2.8]])\n",
    "            \n",
    "y = np.array([1, 1, 1, 1, 1, 1, 1, 1, -1, -1, -1, -1, -1, -1, -1, -1])\n",
    "\n",
    "plot_points(X, y)\n",
    "plt.show()"
   ]
  },
  {
   "cell_type": "markdown",
   "metadata": {},
   "source": [
    "In the next cell you are required to derive the Quadratic Constrained Quadratic form of SVM **without soft constraints** from the basic principles. Start with the idea that SVM tries to maximize the margin and then derive the form which you can feed to the solver.\n",
    "\n",
    "Please print the values of w, b. \n",
    "\n",
    "**Note: You are also required to upload a page of the derivation. You may also type it in markdown here**\n",
    "\n",
    "**Note: You cannot use sklearn SVM functions here**"
   ]
  },
  {
   "cell_type": "code",
   "execution_count": 286,
   "metadata": {},
   "outputs": [
    {
     "data": {
      "text/plain": [
       "'optimal'"
      ]
     },
     "execution_count": 286,
     "metadata": {},
     "output_type": "execute_result"
    }
   ],
   "source": [
    "w = cp.Variable(2)\n",
    "b = cp.Variable(1)\n",
    "\n",
    "obj = cp.Minimize(0.5*cp.square(cp.norm(w,2)))\n",
    "constr = []\n",
    "for i in range(X.shape[0]):\n",
    "    constr.append((cp.matmul(w,X[i])+b)*y[i] >= 1)\n",
    "\n",
    "# print(constr)\n",
    "\n",
    "prob = cp.Problem(obj, constr)\n",
    "prob.solve()\n",
    "\n",
    "prob.status"
   ]
  },
  {
   "cell_type": "code",
   "execution_count": 287,
   "metadata": {},
   "outputs": [
    {
     "data": {
      "text/plain": [
       "(array([-1.73913043, -1.30434783]), array([-2.91304348]))"
      ]
     },
     "execution_count": 287,
     "metadata": {},
     "output_type": "execute_result"
    }
   ],
   "source": [
    "w.value, b.value"
   ]
  },
  {
   "cell_type": "markdown",
   "metadata": {},
   "source": [
    "In the next cell you are required to visualize the boundary predicted by the solver. You may want to revise up on how to plot the a line given w, b. Please plot w vector as well as the margin lines\n",
    "\n",
    "You may want to create a function to plot the line of separation as you would require this frequently in the subsequent parts of the assignment."
   ]
  },
  {
   "cell_type": "code",
   "execution_count": 290,
   "metadata": {},
   "outputs": [],
   "source": [
    "def plot_line_of_sep(w,b):\n",
    "    xx = np.linspace(-4, 4, 100)\n",
    "    yy = -(w.value[0]*xx + b.value) / w.value[1]\n",
    "    plt.plot(xx,yy)\n",
    "    plot_points(X,y)\n",
    "    plt.show()"
   ]
  },
  {
   "cell_type": "code",
   "execution_count": 291,
   "metadata": {},
   "outputs": [
    {
     "data": {
      "image/png": "[encoded data removed]",
      "text/plain": [
       "<Figure size 432x288 with 1 Axes>"
      ]
     },
     "metadata": {
      "needs_background": "light"
     },
     "output_type": "display_data"
    }
   ],
   "source": [
    "plot_line_of_sep(w,b)"
   ]
  },
  {
   "cell_type": "markdown",
   "metadata": {},
   "source": [
    "In the next cell please plot only the support vectors along with the boundary, w vector, and margins. \n",
    "\n",
    "**Note: You are not supposed to hard-code the points here**"
   ]
  },
  {
   "cell_type": "code",
   "execution_count": 335,
   "metadata": {},
   "outputs": [],
   "source": [
    "def find_support_vectors(X,y,w,b):\n",
    "    s_range = np.arange(0,1,0.00001)\n",
    "    val = np.dot(X,w.T) + b\n",
    "#     print(\"val = \",val)\n",
    "    \n",
    "    for s in s_range:\n",
    "#         print(\"s = \",s)\n",
    "        upper_sv = X[np.argwhere((val>=1-s) & (val<=1+s))]\n",
    "        lower_sv = X[np.argwhere((val>=-1-s) & (val<=-1+s))]\n",
    "        if(len(upper_sv)>0 and len(lower_sv) >0):\n",
    "            print(upper_sv,lower_sv)\n",
    "            return upper_sv[0], lower_sv[0]"
   ]
  },
  {
   "cell_type": "code",
   "execution_count": 304,
   "metadata": {},
   "outputs": [
    {
     "data": {
      "text/plain": [
       "(array([[-3.,  1.]]), array([[-1.1,  0. ]]))"
      ]
     },
     "execution_count": 304,
     "metadata": {},
     "output_type": "execute_result"
    }
   ],
   "source": [
    "SV = find_support_vectors(X,y,w.value,b.value)\n",
    "SV"
   ]
  },
  {
   "cell_type": "code",
   "execution_count": 311,
   "metadata": {},
   "outputs": [],
   "source": [
    "def plot_line_of_sep_and_SVs(w,b,sv1,sv2):\n",
    "    xx = np.linspace(-4, 4, 100)\n",
    "    yy = -(w.value[0]*xx + b.value) / w.value[1]\n",
    "    \n",
    "    y1 = (-(w.value[0]/w.value[1])*xx) + sv1[0][1] + ((w.value[0]/w.value[1])*sv1[0][0])\n",
    "    y2 = (-(w.value[0]/w.value[1])*xx) + sv2[0][1] + ((w.value[0]/w.value[1])*sv2[0][0])\n",
    "    plt.plot(xx,yy)\n",
    "    plt.plot(xx,y1,'--')\n",
    "    plt.plot(xx,y2,'--')\n",
    "    plot_points(X,y)\n",
    "    plt.show()"
   ]
  },
  {
   "cell_type": "code",
   "execution_count": 312,
   "metadata": {},
   "outputs": [
    {
     "data": {
      "image/png": "[encoded data removed]",
      "text/plain": [
       "<Figure size 432x288 with 1 Axes>"
      ]
     },
     "metadata": {
      "needs_background": "light"
     },
     "output_type": "display_data"
    }
   ],
   "source": [
    "plot_line_of_sep_and_SVs(w,b,SV[0],SV[1])"
   ]
  },
  {
   "cell_type": "markdown",
   "metadata": {},
   "source": [
    "In the next cell add the following points:\n",
    "* (-4, -10) with label 1\n",
    "* (4, 4) with label -1\n",
    "\n",
    "Is the decision boundary changed after adding the points? Explain your observations theoretically."
   ]
  },
  {
   "cell_type": "code",
   "execution_count": 358,
   "metadata": {},
   "outputs": [
    {
     "data": {
      "image/png": "[encoded data removed]",
      "text/plain": [
       "<Figure size 432x288 with 1 Axes>"
      ]
     },
     "metadata": {
      "needs_background": "light"
     },
     "output_type": "display_data"
    }
   ],
   "source": [
    "X = np.array([[-3.5, -1], [-3, 0], [-3, 1], [-2.7, -1.3], [-2, -1], [-2, -2.7], \n",
    "              [-1, -2.5], [0, -3], [-1.1, 0], [0, 2.5], [1, 2], [0.7, 4], \n",
    "              [2.1, 0.2], [2.3, 1], [2.8, 1.8], [2.2, 2.8], [-4,-10] , [4,4]])\n",
    "y = np.array([1, 1, 1, 1, 1, 1, 1, 1, -1, -1, -1, -1, -1, -1, -1, -1, 1, -1])\n",
    "\n",
    "plot_points(X, y)\n",
    "plt.show()"
   ]
  },
  {
   "cell_type": "code",
   "execution_count": 316,
   "metadata": {},
   "outputs": [
    {
     "data": {
      "text/plain": [
       "('optimal', array([-1.73913043, -1.30434783]), array([-2.91304348]))"
      ]
     },
     "execution_count": 316,
     "metadata": {},
     "output_type": "execute_result"
    }
   ],
   "source": [
    "w = cp.Variable(2)\n",
    "b = cp.Variable(1)\n",
    "\n",
    "obj = cp.Minimize(0.5*cp.square(cp.norm(w,2)))\n",
    "constr = []\n",
    "for i in range(X.shape[0]):\n",
    "    constr.append((cp.matmul(w,X[i])+b)*y[i] >= 1)\n",
    "\n",
    "# print(constr)\n",
    "\n",
    "prob = cp.Problem(obj, constr)\n",
    "prob.solve()\n",
    "\n",
    "prob.status, w.value, b.value"
   ]
  },
  {
   "cell_type": "code",
   "execution_count": 320,
   "metadata": {},
   "outputs": [
    {
     "data": {
      "image/png": "[encoded data removed]",
      "text/plain": [
       "<Figure size 432x288 with 1 Axes>"
      ]
     },
     "metadata": {
      "needs_background": "light"
     },
     "output_type": "display_data"
    }
   ],
   "source": [
    "plot_line_of_sep(w,b)"
   ]
  },
  {
   "cell_type": "markdown",
   "metadata": {},
   "source": [
    "**Observation:** No, decision boundary does not changed after adding the two points. Since the two point added have no impact on the margin and the optimization"
   ]
  },
  {
   "cell_type": "markdown",
   "metadata": {},
   "source": [
    "In the next cell you are required to modify your framing of optimisation problem to incorporate soft constraints also known as slack. Plot the decision boundary, w and margin lines for various values of C: $0.01$, $0.1$, $3$, $10$, $100$.\n",
    "\n",
    "Explain your results theoretically. How does the boundary change with varying values of C? Why?\n",
    "\n",
    "**Note: Use the modified X and y i.e after adding points in previous cell**"
   ]
  },
  {
   "cell_type": "code",
   "execution_count": 347,
   "metadata": {},
   "outputs": [],
   "source": [
    "def SVM_with_slack(C):\n",
    "    w = cp.Variable(2)\n",
    "    b = cp.Variable(1)\n",
    "    slack = cp.Variable(X.shape[0])\n",
    "    \n",
    "    obj = cp.Minimize(0.5*cp.square(cp.norm(w,2)) + (C* cp.sum(slack)))\n",
    "    constr = []\n",
    "    for i in range(X.shape[0]):\n",
    "        constr.append((cp.matmul(w,X[i])+b)*y[i] >= (1 - slack[i]))\n",
    "    for i in range(X.shape[0]):\n",
    "        constr.append(slack[i] >=0)\n",
    "\n",
    "    prob = cp.Problem(obj, constr)\n",
    "    prob.solve()\n",
    "\n",
    "    prob.status    \n",
    "    return w, b"
   ]
  },
  {
   "cell_type": "code",
   "execution_count": 348,
   "metadata": {},
   "outputs": [
    {
     "name": "stdout",
     "output_type": "stream",
     "text": [
      "[-0.22506809 -0.19858949] [0.0136722]\n",
      "[[[-3.5 -1. ]]\n",
      "\n",
      " [[-2.  -2.7]]] [[[2.8 1.8]]]\n"
     ]
    },
    {
     "data": {
      "image/png": "[encoded data removed]",
      "text/plain": [
       "<Figure size 432x288 with 1 Axes>"
      ]
     },
     "metadata": {
      "needs_background": "light"
     },
     "output_type": "display_data"
    }
   ],
   "source": [
    "# Write your code here for C= 0.01\n",
    "w,b = SVM_with_slack(C=0.01)\n",
    "print(w.value, b.value)\n",
    "\n",
    "SV = find_support_vectors(X,y,w.value,b.value)\n",
    "\n",
    "plot_line_of_sep_and_SVs(w,b, SV[0], SV[1])"
   ]
  },
  {
   "cell_type": "code",
   "execution_count": 349,
   "metadata": {},
   "outputs": [
    {
     "name": "stdout",
     "output_type": "stream",
     "text": [
      "[-0.38493724 -0.35146444] [-0.12133891]\n",
      "[[[-2. -1.]]] [[[0.  2.5]]\n",
      "\n",
      " [[2.1 0.2]]]\n"
     ]
    },
    {
     "data": {
      "image/png": "[encoded data removed]",
      "text/plain": [
       "<Figure size 432x288 with 1 Axes>"
      ]
     },
     "metadata": {
      "needs_background": "light"
     },
     "output_type": "display_data"
    }
   ],
   "source": [
    "# Write your code here for C= 0.1\n",
    "w,b = SVM_with_slack(C=0.1)\n",
    "print(w.value, b.value)\n",
    "\n",
    "SV = find_support_vectors(X,y,w.value,b.value)\n",
    "\n",
    "plot_line_of_sep_and_SVs(w,b, SV[0], SV[1])"
   ]
  },
  {
   "cell_type": "code",
   "execution_count": 350,
   "metadata": {},
   "outputs": [
    {
     "name": "stdout",
     "output_type": "stream",
     "text": [
      "[-1.73913043 -1.30434783] [-2.91304348]\n",
      "[[[-3.  1.]]\n",
      "\n",
      " [[ 0. -3.]]] [[[-1.1  0. ]]]\n"
     ]
    },
    {
     "data": {
      "image/png": "[encoded data removed]",
      "text/plain": [
       "<Figure size 432x288 with 1 Axes>"
      ]
     },
     "metadata": {
      "needs_background": "light"
     },
     "output_type": "display_data"
    }
   ],
   "source": [
    "# Write your code here for C= 3\n",
    "w,b = SVM_with_slack(C=3)\n",
    "print(w.value, b.value)\n",
    "\n",
    "SV = find_support_vectors(X,y,w.value,b.value)\n",
    "\n",
    "plot_line_of_sep_and_SVs(w,b, SV[0], SV[1])"
   ]
  },
  {
   "cell_type": "code",
   "execution_count": 351,
   "metadata": {},
   "outputs": [
    {
     "name": "stdout",
     "output_type": "stream",
     "text": [
      "[-1.73913043 -1.30434783] [-2.91304348]\n",
      "[[[-3.  1.]]\n",
      "\n",
      " [[ 0. -3.]]] [[[-1.1  0. ]]]\n"
     ]
    },
    {
     "data": {
      "image/png": "[encoded data removed]",
      "text/plain": [
       "<Figure size 432x288 with 1 Axes>"
      ]
     },
     "metadata": {
      "needs_background": "light"
     },
     "output_type": "display_data"
    }
   ],
   "source": [
    "# Write your code here for C= 10\n",
    "w,b = SVM_with_slack(C=10)\n",
    "print(w.value, b.value)\n",
    "\n",
    "SV = find_support_vectors(X,y,w.value,b.value)\n",
    "\n",
    "plot_line_of_sep_and_SVs(w,b, SV[0], SV[1])"
   ]
  },
  {
   "cell_type": "code",
   "execution_count": 352,
   "metadata": {},
   "outputs": [
    {
     "name": "stdout",
     "output_type": "stream",
     "text": [
      "[-1.73913044 -1.30434783] [-2.91304348]\n",
      "[[[-3.  1.]]\n",
      "\n",
      " [[ 0. -3.]]] [[[-1.1  0. ]]]\n"
     ]
    },
    {
     "data": {
      "image/png": "[encoded data removed]",
      "text/plain": [
       "<Figure size 432x288 with 1 Axes>"
      ]
     },
     "metadata": {
      "needs_background": "light"
     },
     "output_type": "display_data"
    }
   ],
   "source": [
    "# Write your code here for C= 100\n",
    "w,b = SVM_with_slack(C=100)\n",
    "print(w.value, b.value)\n",
    "\n",
    "SV = find_support_vectors(X,y,w.value,b.value)\n",
    "\n",
    "plot_line_of_sep_and_SVs(w,b, SV[0], SV[1])"
   ]
  },
  {
   "cell_type": "markdown",
   "metadata": {},
   "source": [
    "Take the case of C = 100 and remove the support vectors. Does the boundary change after the deletion?\n",
    "Explain why? Show your results by appropriate plots?"
   ]
  },
  {
   "cell_type": "markdown",
   "metadata": {},
   "source": [
    "- The support vectors have co-ordinates (0,-3) and (-1.1,0) with indices 7 and 8"
   ]
  },
  {
   "cell_type": "code",
   "execution_count": 359,
   "metadata": {},
   "outputs": [
    {
     "name": "stdout",
     "output_type": "stream",
     "text": [
      "(16, 2) (16,)\n"
     ]
    },
    {
     "data": {
      "image/png": "[encoded data removed]",
      "text/plain": [
       "<Figure size 432x288 with 1 Axes>"
      ]
     },
     "metadata": {
      "needs_background": "light"
     },
     "output_type": "display_data"
    }
   ],
   "source": [
    "X = np.delete(X,(7,8),axis=0)\n",
    "y = np.delete(y,(7,8))\n",
    "print(X.shape, y.shape)\n",
    "plot_points(X,y)"
   ]
  },
  {
   "cell_type": "code",
   "execution_count": 360,
   "metadata": {},
   "outputs": [
    {
     "name": "stdout",
     "output_type": "stream",
     "text": [
      "[-0.51851852 -0.2962963 ] [-0.25925926]\n",
      "[[[-3.   1. ]]\n",
      "\n",
      " [[-1.  -2.5]]] [[[0.  2.5]]]\n"
     ]
    },
    {
     "data": {
      "image/png": "[encoded data removed]",
      "text/plain": [
       "<Figure size 432x288 with 1 Axes>"
      ]
     },
     "metadata": {
      "needs_background": "light"
     },
     "output_type": "display_data"
    }
   ],
   "source": [
    "w,b = SVM_with_slack(C=100)\n",
    "print(w.value, b.value)\n",
    "\n",
    "SV = find_support_vectors(X,y,w.value,b.value)\n",
    "\n",
    "plot_line_of_sep_and_SVs(w,b, SV[0], SV[1])"
   ]
  },
  {
   "cell_type": "markdown",
   "metadata": {},
   "source": [
    "* Yes, The Decision boundary changed after removing the points.\n",
    "* This nature was expected since after removal of the support vectors, the new decision boundary will be dependent on the remaining points and thus differs from previous one."
   ]
  },
  {
   "cell_type": "markdown",
   "metadata": {},
   "source": [
    "### Subsection 2"
   ]
  },
  {
   "cell_type": "code",
   "execution_count": 15,
   "metadata": {},
   "outputs": [
    {
     "name": "stdout",
     "output_type": "stream",
     "text": [
      "Requirement already satisfied: python-mnist in /home/danial/Courses/SMAI/ass1/test/lib/python3.8/site-packages (0.7)\n",
      "--2021-03-08 20:12:09--  http://yann.lecun.com/exdb/mnist/train-images-idx3-ubyte.gz\n",
      "Resolving yann.lecun.com (yann.lecun.com)... 2606:4700:90ce:3911:88ca:5a:be93:f32b, 172.67.171.76, 104.21.29.36\n",
      "Connecting to yann.lecun.com (yann.lecun.com)|2606:4700:90ce:3911:88ca:5a:be93:f32b|:80... connected.\n",
      "HTTP request sent, awaiting response... 200 OK\n",
      "Length: 9912422 (9.5M) [application/x-gzip]\n",
      "Saving to: ‘samples/train-images-idx3-ubyte.gz’\n",
      "\n",
      "train-images-idx3-u 100%[===================>]   9.45M   675KB/s    in 22s     \n",
      "\n",
      "2021-03-08 20:12:31 (446 KB/s) - ‘samples/train-images-idx3-ubyte.gz’ saved [9912422/9912422]\n",
      "\n",
      "--2021-03-08 20:12:32--  http://yann.lecun.com/exdb/mnist/train-labels-idx1-ubyte.gz\n",
      "Resolving yann.lecun.com (yann.lecun.com)... 2606:4700:90ce:3911:88ca:5a:be93:f32b, 104.21.29.36, 172.67.171.76\n",
      "Connecting to yann.lecun.com (yann.lecun.com)|2606:4700:90ce:3911:88ca:5a:be93:f32b|:80... connected.\n",
      "HTTP request sent, awaiting response... 200 OK\n",
      "Length: 28881 (28K) [application/x-gzip]\n",
      "Saving to: ‘samples/train-labels-idx1-ubyte.gz’\n",
      "\n",
      "train-labels-idx1-u 100%[===================>]  28.20K  --.-KB/s    in 0.09s   \n",
      "\n",
      "2021-03-08 20:12:33 (314 KB/s) - ‘samples/train-labels-idx1-ubyte.gz’ saved [28881/28881]\n",
      "\n",
      "--2021-03-08 20:12:33--  http://yann.lecun.com/exdb/mnist/t10k-images-idx3-ubyte.gz\n",
      "Resolving yann.lecun.com (yann.lecun.com)... 2606:4700:90ce:3911:88ca:5a:be93:f32b, 104.21.29.36, 172.67.171.76\n",
      "Connecting to yann.lecun.com (yann.lecun.com)|2606:4700:90ce:3911:88ca:5a:be93:f32b|:80... connected.\n",
      "HTTP request sent, awaiting response... 200 OK\n",
      "Length: 1648877 (1.6M) [application/x-gzip]\n",
      "Saving to: ‘samples/t10k-images-idx3-ubyte.gz’\n",
      "\n",
      "t10k-images-idx3-ub 100%[===================>]   1.57M   429KB/s    in 4.1s    \n",
      "\n",
      "2021-03-08 20:12:38 (394 KB/s) - ‘samples/t10k-images-idx3-ubyte.gz’ saved [1648877/1648877]\n",
      "\n",
      "--2021-03-08 20:12:39--  http://yann.lecun.com/exdb/mnist/t10k-labels-idx1-ubyte.gz\n",
      "Resolving yann.lecun.com (yann.lecun.com)... 2606:4700:90ce:3911:88ca:5a:be93:f32b, 104.21.29.36, 172.67.171.76\n",
      "Connecting to yann.lecun.com (yann.lecun.com)|2606:4700:90ce:3911:88ca:5a:be93:f32b|:80... connected.\n",
      "HTTP request sent, awaiting response... 200 OK\n",
      "Length: 4542 (4.4K) [application/x-gzip]\n",
      "Saving to: ‘samples/t10k-labels-idx1-ubyte.gz’\n",
      "\n",
      "t10k-labels-idx1-ub 100%[===================>]   4.44K  --.-KB/s    in 0s      \n",
      "\n",
      "2021-03-08 20:12:39 (241 MB/s) - ‘samples/t10k-labels-idx1-ubyte.gz’ saved [4542/4542]\n",
      "\n"
     ]
    }
   ],
   "source": [
    "!pip install python-mnist\n",
    "!rm -rf samples\n",
    "!mkdir samples\n",
    "!wget http://yann.lecun.com/exdb/mnist/train-images-idx3-ubyte.gz -P samples/\n",
    "!gunzip samples/train-images-idx3-ubyte.gz\n",
    "!wget http://yann.lecun.com/exdb/mnist/train-labels-idx1-ubyte.gz -P samples/\n",
    "!gunzip samples/train-labels-idx1-ubyte.gz\n",
    "!wget http://yann.lecun.com/exdb/mnist/t10k-images-idx3-ubyte.gz -P samples/\n",
    "!gunzip samples/t10k-images-idx3-ubyte.gz\n",
    "!wget http://yann.lecun.com/exdb/mnist/t10k-labels-idx1-ubyte.gz -P samples/\n",
    "!gunzip samples/t10k-labels-idx1-ubyte.gz"
   ]
  },
  {
   "cell_type": "code",
   "execution_count": 8,
   "metadata": {},
   "outputs": [],
   "source": [
    "# Import Relevant Packages\n",
    "from sklearn.svm import SVC\n",
    "import numpy as np\n",
    "from mnist.loader import MNIST"
   ]
  },
  {
   "cell_type": "code",
   "execution_count": 9,
   "metadata": {},
   "outputs": [
    {
     "name": "stdout",
     "output_type": "stream",
     "text": [
      "(18623, 784)\n",
      "(18623,)\n"
     ]
    }
   ],
   "source": [
    "mndata = MNIST('samples')\n",
    "\n",
    "# Load training dataset\n",
    "images, labels = mndata.load_training()\n",
    "l = len(labels)\n",
    "images_train = np.array(images)\n",
    "labels_train = np.array(labels)\n",
    "\n",
    "indices_0_1_2 = np.argwhere((labels_train==0) | (labels_train==1) | (labels_train==2))\n",
    "# print(indices_0_1_2)\n",
    "images_train = images_train[indices_0_1_2].reshape(len(indices_0_1_2),784)\n",
    "labels_train = labels_train[indices_0_1_2].reshape(len(indices_0_1_2))\n",
    "print(images_train.shape)\n",
    "print(labels_train.shape)"
   ]
  },
  {
   "cell_type": "code",
   "execution_count": 10,
   "metadata": {},
   "outputs": [
    {
     "name": "stdout",
     "output_type": "stream",
     "text": [
      "(3147, 784)\n",
      "(3147,)\n"
     ]
    },
    {
     "data": {
      "text/plain": [
       "<matplotlib.image.AxesImage at 0x7fab205b8220>"
      ]
     },
     "execution_count": 10,
     "metadata": {},
     "output_type": "execute_result"
    },
    {
     "data": {
      "image/png": "[encoded data removed]",
      "text/plain": [
       "<Figure size 432x288 with 1 Axes>"
      ]
     },
     "metadata": {
      "needs_background": "light"
     },
     "output_type": "display_data"
    }
   ],
   "source": [
    "# Load testing dataset\n",
    "images, labels = mndata.load_testing()\n",
    "l = len(labels)\n",
    "images_test = np.array(images)\n",
    "labels_test = np.array(labels)\n",
    "\n",
    "indices_0_1_2 = np.argwhere((labels_test==0) | (labels_test==1) | (labels_test==2))\n",
    "\n",
    "images_test = images_test[indices_0_1_2].reshape(len(indices_0_1_2),784)\n",
    "labels_test = labels_test[indices_0_1_2].reshape(len(indices_0_1_2))\n",
    "\n",
    "print(images_test.shape)\n",
    "print(labels_test.shape)\n",
    "plt.imshow(images_test[6].reshape(28,28))"
   ]
  },
  {
   "cell_type": "markdown",
   "metadata": {},
   "source": [
    "- Tweak different parameters like the C Parameter and gamma parameter of the Linear SVM and report the results.\n",
    "- Experiment different kernels for classification and report the results.\n",
    "\n",
    "Report accuracy score, F1-score, Confusion matrix and any other metrics you feel useful."
   ]
  },
  {
   "cell_type": "code",
   "execution_count": 13,
   "metadata": {},
   "outputs": [],
   "source": [
    "from sklearn.svm import SVC"
   ]
  },
  {
   "cell_type": "markdown",
   "metadata": {},
   "source": [
    "**Linear SVM with C = 1000**"
   ]
  },
  {
   "cell_type": "code",
   "execution_count": 14,
   "metadata": {},
   "outputs": [
    {
     "data": {
      "text/plain": [
       "SVC(C=1000, kernel='linear')"
      ]
     },
     "execution_count": 14,
     "metadata": {},
     "output_type": "execute_result"
    }
   ],
   "source": [
    "clf_linear_c1000_gamma_auto = SVC(kernel='linear', C=1000,gamma='auto')\n",
    "clf_linear_c1000_gamma_auto.fit(images_train, labels_train)\n",
    "\n",
    "clf_linear_c1000_gamma_scale = SVC(kernel='linear', C=1000,gamma='scale')\n",
    "clf_linear_c1000_gamma_scale.fit(images_train, labels_train)"
   ]
  },
  {
   "cell_type": "code",
   "execution_count": 15,
   "metadata": {},
   "outputs": [
    {
     "name": "stdout",
     "output_type": "stream",
     "text": [
      "Accuracy Score Sklearn linear with C = 1000 and gamma = auto:  0.9809342230695901\n",
      "Accuracy Score Sklearn linear with C = 1000 and gamma = scale:  0.9809342230695901\n"
     ]
    }
   ],
   "source": [
    "predictedSK_linear_c1000_gamma_auto = clf_linear_c1000_gamma_auto.predict(images_test)\n",
    "accuracy_score_SK_linear_C1000_gamma_auto = (predictedSK_linear_c1000_gamma_auto==labels_test).mean()\n",
    "print(\"Accuracy Score Sklearn linear with C = 1000 and gamma = auto: \",accuracy_score_SK_linear_C1000_gamma_auto)\n",
    "\n",
    "predictedSK_linear_c1000_gamma_scale = clf_linear_c1000_gamma_scale.predict(images_test)\n",
    "accuracy_score_SK_linear_C1000_gamma_scale = (predictedSK_linear_c1000_gamma_scale==labels_test).mean()\n",
    "print(\"Accuracy Score Sklearn linear with C = 1000 and gamma = scale: \",accuracy_score_SK_linear_C1000_gamma_scale)"
   ]
  },
  {
   "cell_type": "code",
   "execution_count": 29,
   "metadata": {},
   "outputs": [],
   "source": [
    "# ax = plt.gca()\n",
    "# # xlim = ax.get_xlim()\n",
    "# # ylim = ax.get_ylim()\n",
    "# xlim = (-4,4)\n",
    "# ylim = (-4,4)\n",
    "\n",
    "# # create grid to evaluate model\n",
    "# xx = np.linspace(xlim[0], xlim[1], 30)\n",
    "# yy = np.linspace(ylim[0], ylim[1], 30)\n",
    "# YY, XX = np.meshgrid(yy, xx)\n",
    "# xy = np.vstack([XX.ravel(), YY.ravel()]).T\n",
    "# Z = clf.decision_function(xy).reshape(XX.shape)\n",
    "\n",
    "# # plot decision boundary and margins\n",
    "# ax.contour(XX, YY, Z, colors='k', levels=[-1, 0, 1], alpha=0.5,\n",
    "#            linestyles=['--', '-', '--'])\n",
    "# # plot support vectors\n",
    "# ax.scatter(clf.support_vectors_[:, 0], clf.support_vectors_[:, 1], s=100,\n",
    "#            linewidth=1, facecolors='none', edgecolors='k')\n",
    "# plot_points(images_train, labels_train)"
   ]
  },
  {
   "cell_type": "markdown",
   "metadata": {},
   "source": [
    "**Linear SVM with C = 100**"
   ]
  },
  {
   "cell_type": "code",
   "execution_count": 19,
   "metadata": {},
   "outputs": [
    {
     "data": {
      "text/plain": [
       "SVC(C=100, kernel='linear')"
      ]
     },
     "execution_count": 19,
     "metadata": {},
     "output_type": "execute_result"
    }
   ],
   "source": [
    "clf_linear_c100_gamma_auto = SVC(kernel='linear', C=100,gamma='auto')\n",
    "clf_linear_c100_gamma_auto.fit(images_train, labels_train)\n",
    "\n",
    "clf_linear_c100_gamma_scale = SVC(kernel='linear', C=100,gamma='scale')\n",
    "clf_linear_c100_gamma_scale.fit(images_train, labels_train)"
   ]
  },
  {
   "cell_type": "code",
   "execution_count": 20,
   "metadata": {},
   "outputs": [
    {
     "name": "stdout",
     "output_type": "stream",
     "text": [
      "Accuracy Score Sklearn linear with C = 100 and gamma = auto:  0.9809342230695901\n",
      "Accuracy Score Sklearn linear with C = 100 and gamma = scale:  0.9809342230695901\n"
     ]
    }
   ],
   "source": [
    "predictedSK_linear_c100_gamma_auto = clf_linear_c100_gamma_auto.predict(images_test)\n",
    "accuracy_score_SK_linear_C100_gamma_auto = (predictedSK_linear_c100_gamma_auto==labels_test).mean()\n",
    "print(\"Accuracy Score Sklearn linear with C = 100 and gamma = auto: \",accuracy_score_SK_linear_C100_gamma_auto)\n",
    "\n",
    "predictedSK_linear_c100_gamma_scale = clf_linear_c100_gamma_scale.predict(images_test)\n",
    "accuracy_score_SK_linear_C100_gamma_scale = (predictedSK_linear_c100_gamma_scale==labels_test).mean()\n",
    "print(\"Accuracy Score Sklearn linear with C = 100 and gamma = scale: \",accuracy_score_SK_linear_C100_gamma_scale)"
   ]
  },
  {
   "cell_type": "markdown",
   "metadata": {},
   "source": [
    "**Linear SVM with C = 10**"
   ]
  },
  {
   "cell_type": "code",
   "execution_count": 21,
   "metadata": {},
   "outputs": [
    {
     "data": {
      "text/plain": [
       "SVC(C=10, kernel='linear')"
      ]
     },
     "execution_count": 21,
     "metadata": {},
     "output_type": "execute_result"
    }
   ],
   "source": [
    "clf_linear_c10_gamma_auto = SVC(kernel='linear', C=10,gamma='auto')\n",
    "clf_linear_c10_gamma_auto.fit(images_train, labels_train)\n",
    "\n",
    "clf_linear_c10_gamma_scale = SVC(kernel='linear', C=10,gamma='scale')\n",
    "clf_linear_c10_gamma_scale.fit(images_train, labels_train)"
   ]
  },
  {
   "cell_type": "code",
   "execution_count": 22,
   "metadata": {},
   "outputs": [
    {
     "name": "stdout",
     "output_type": "stream",
     "text": [
      "Accuracy Score Sklearn linear with C = 10 and gamma = auto:  0.9809342230695901\n",
      "Accuracy Score Sklearn linear with C = 10 and gamma = scale:  0.9809342230695901\n"
     ]
    }
   ],
   "source": [
    "predictedSK_linear_c10_gamma_auto = clf_linear_c10_gamma_auto.predict(images_test)\n",
    "accuracy_score_SK_linear_C10_gamma_auto = (predictedSK_linear_c10_gamma_auto==labels_test).mean()\n",
    "print(\"Accuracy Score Sklearn linear with C = 10 and gamma = auto: \",accuracy_score_SK_linear_C10_gamma_auto)\n",
    "\n",
    "predictedSK_linear_c10_gamma_scale = clf_linear_c10_gamma_scale.predict(images_test)\n",
    "accuracy_score_SK_linear_C10_gamma_scale = (predictedSK_linear_c10_gamma_scale==labels_test).mean()\n",
    "print(\"Accuracy Score Sklearn linear with C = 10 and gamma = scale: \",accuracy_score_SK_linear_C10_gamma_scale)"
   ]
  },
  {
   "cell_type": "markdown",
   "metadata": {},
   "source": [
    "**Linear SVM with C = 3**"
   ]
  },
  {
   "cell_type": "code",
   "execution_count": 23,
   "metadata": {},
   "outputs": [
    {
     "data": {
      "text/plain": [
       "SVC(C=3, kernel='linear')"
      ]
     },
     "execution_count": 23,
     "metadata": {},
     "output_type": "execute_result"
    }
   ],
   "source": [
    "clf_linear_c3_gamma_auto = SVC(kernel='linear', C=3,gamma='auto')\n",
    "clf_linear_c3_gamma_auto.fit(images_train, labels_train)\n",
    "\n",
    "clf_linear_c3_gamma_scale = SVC(kernel='linear', C=3,gamma='scale')\n",
    "clf_linear_c3_gamma_scale.fit(images_train, labels_train)"
   ]
  },
  {
   "cell_type": "code",
   "execution_count": 24,
   "metadata": {},
   "outputs": [
    {
     "name": "stdout",
     "output_type": "stream",
     "text": [
      "Accuracy Score Sklearn linear with C = 3 and gamma = auto:  0.9809342230695901\n",
      "Accuracy Score Sklearn linear with C = 3 and gamma = scale:  0.9809342230695901\n"
     ]
    }
   ],
   "source": [
    "predictedSK_linear_c3_gamma_auto = clf_linear_c3_gamma_auto.predict(images_test)\n",
    "accuracy_score_SK_linear_C3_gamma_auto = (predictedSK_linear_c3_gamma_auto==labels_test).mean()\n",
    "print(\"Accuracy Score Sklearn linear with C = 3 and gamma = auto: \",accuracy_score_SK_linear_C3_gamma_auto)\n",
    "\n",
    "predictedSK_linear_c3_gamma_scale = clf_linear_c3_gamma_scale.predict(images_test)\n",
    "accuracy_score_SK_linear_C3_gamma_scale = (predictedSK_linear_c3_gamma_scale==labels_test).mean()\n",
    "print(\"Accuracy Score Sklearn linear with C = 3 and gamma = scale: \",accuracy_score_SK_linear_C3_gamma_scale)"
   ]
  },
  {
   "cell_type": "markdown",
   "metadata": {},
   "source": [
    "**Poly Kernel**"
   ]
  },
  {
   "cell_type": "code",
   "execution_count": 25,
   "metadata": {},
   "outputs": [
    {
     "name": "stdout",
     "output_type": "stream",
     "text": [
      "Accuracy score Sklearn with Poly kernel =  0.9939625039720369\n"
     ]
    }
   ],
   "source": [
    "clf_poly = SVC(kernel='poly', C=100)\n",
    "clf_poly.fit(images_train, labels_train)\n",
    "predictedSK_poly = clf_poly.predict(images_test)\n",
    "\n",
    "accuracy_score_poly = (predictedSK_poly==labels_test).mean()\n",
    "print(\"Accuracy score Sklearn with Poly kernel = \", accuracy_score_poly)"
   ]
  },
  {
   "cell_type": "markdown",
   "metadata": {},
   "source": [
    "**RBF Kernel**"
   ]
  },
  {
   "cell_type": "code",
   "execution_count": 26,
   "metadata": {},
   "outputs": [
    {
     "name": "stdout",
     "output_type": "stream",
     "text": [
      "Accuracy score Sklearn with rbf kernel =  0.9955513187162377\n"
     ]
    }
   ],
   "source": [
    "clf_rbf = SVC(kernel='rbf', C=100)\n",
    "clf_rbf.fit(images_train, labels_train)\n",
    "predictedSK_rbf = clf_rbf.predict(images_test)\n",
    "\n",
    "accuracy_score_rbf = (predictedSK_rbf==labels_test).mean()\n",
    "print(\"Accuracy score Sklearn with rbf kernel = \", accuracy_score_rbf)"
   ]
  },
  {
   "cell_type": "markdown",
   "metadata": {},
   "source": [
    "**Sigmoid Kernel**"
   ]
  },
  {
   "cell_type": "code",
   "execution_count": 28,
   "metadata": {},
   "outputs": [
    {
     "name": "stdout",
     "output_type": "stream",
     "text": [
      "Accuracy score Sklearn with Sigmoid kernel =  0.9380362249761678\n"
     ]
    }
   ],
   "source": [
    "clf_sigmoid = SVC(kernel='sigmoid', C=100)\n",
    "clf_sigmoid.fit(images_train, labels_train)\n",
    "predictedSK_sigmoid = clf_sigmoid.predict(images_test)\n",
    "\n",
    "accuracy_score_sigmoid = (predictedSK_sigmoid==labels_test).mean()\n",
    "print(\"Accuracy score Sklearn with Sigmoid kernel = \", accuracy_score_sigmoid)"
   ]
  },
  {
   "cell_type": "markdown",
   "metadata": {},
   "source": [
    "**Precomputed Kernel**"
   ]
  },
  {
   "cell_type": "code",
   "execution_count": 29,
   "metadata": {},
   "outputs": [],
   "source": [
    "# clf_precomputed = SVC(kernel='precomputed', C=100)\n",
    "# clf_precomputed.fit(np.dot(images_train,images_train.T), labels_train)"
   ]
  },
  {
   "cell_type": "code",
   "execution_count": 30,
   "metadata": {},
   "outputs": [],
   "source": [
    "# predictedSK_precomputed = clf_precomputed.predict(images_test)\n",
    "\n",
    "# accuracy_score_precomputed = (predictedSK_precomputed==labels_test).mean()\n",
    "# print(\"Accuracy score Sklearn with Precomputed kernel = \", accuracy_score_precomputed)"
   ]
  },
  {
   "cell_type": "markdown",
   "metadata": {},
   "source": [
    "### **Accuracy metrices**"
   ]
  },
  {
   "cell_type": "code",
   "execution_count": 45,
   "metadata": {},
   "outputs": [
    {
     "name": "stdout",
     "output_type": "stream",
     "text": [
      "0.9808744005867673\n"
     ]
    }
   ],
   "source": [
    "from sklearn.metrics import f1_score, confusion_matrix\n",
    "\n",
    "f1_score_SK_linear_c1000_auto = f1_score(labels_test, predictedSK_linear_c1000_gamma_auto, average='weighted')\n",
    "f1_score_SK_linear_c1000_scale = f1_score(labels_test, predictedSK_linear_c1000_gamma_scale, average='weighted')\n",
    "\n",
    "f1_score_SK_linear_c100_auto = f1_score(labels_test, predictedSK_linear_c100_gamma_auto, average='weighted')\n",
    "f1_score_SK_linear_c100_scale = f1_score(labels_test, predictedSK_linear_c100_gamma_scale, average='weighted')\n",
    "\n",
    "f1_score_SK_linear_c10_auto = f1_score(labels_test, predictedSK_linear_c10_gamma_auto, average='weighted')\n",
    "f1_score_SK_linear_c10_scale = f1_score(labels_test, predictedSK_linear_c10_gamma_scale, average='weighted')\n",
    "\n",
    "f1_score_SK_linear_c3_auto = f1_score(labels_test, predictedSK_linear_c3_gamma_auto, average='weighted')\n",
    "f1_score_SK_linear_c3_scale = f1_score(labels_test, predictedSK_linear_c3_gamma_scale, average='weighted')\n",
    "\n",
    "f1_score_SK_poly = f1_score(labels_test, predictedSK_poly, average='weighted')\n",
    "\n",
    "f1_score_SK_rbf = f1_score(labels_test, predictedSK_rbf, average='weighted')\n",
    "\n",
    "f1_score_SK_sigmoid = f1_score(labels_test, predictedSK_sigmoid, average='weighted')\n",
    "\n",
    "# f1_score_SK_precomputed = f1_score(labels_test, predictedSK_precomputed, average='weighted')\n",
    "\n",
    "confusion_matrix_SK_linear_c1000_auto = confusion_matrix(labels_test, predictedSK_linear_c1000_gamma_auto)\n",
    "confusion_matrix_SK_linear_c1000_scale = confusion_matrix(labels_test, predictedSK_linear_c1000_gamma_scale)\n",
    "\n",
    "confusion_matrix_SK_linear_c100_auto = confusion_matrix(labels_test, predictedSK_linear_c100_gamma_auto)\n",
    "confusion_matrix_SK_linear_c100_scale = confusion_matrix(labels_test, predictedSK_linear_c100_gamma_scale)\n",
    "\n",
    "confusion_matrix_SK_linear_c10_auto = confusion_matrix(labels_test, predictedSK_linear_c10_gamma_auto)\n",
    "confusion_matrix_SK_linear_c10_scale = confusion_matrix(labels_test, predictedSK_linear_c10_gamma_scale)\n",
    "\n",
    "confusion_matrix_SK_linear_c3_auto = confusion_matrix(labels_test, predictedSK_linear_c3_gamma_auto)\n",
    "confusion_matrix_SK_linear_c3_scale = confusion_matrix(labels_test, predictedSK_linear_c3_gamma_scale)\n",
    "\n",
    "confusion_matrix_SK_poly = confusion_matrix(labels_test, predictedSK_poly)\n",
    "\n",
    "confusion_matrix_SK_rbf = confusion_matrix(labels_test, predictedSK_rbf)\n",
    "\n",
    "confusion_matrix_SK_sigmoid = confusion_matrix(labels_test, predictedSK_sigmoid)\n",
    "\n",
    "print(f1_score_SK_linear_c100_auto)"
   ]
  },
  {
   "cell_type": "code",
   "execution_count": 53,
   "metadata": {},
   "outputs": [
    {
     "name": "stdout",
     "output_type": "stream",
     "text": [
      "+------------------------------------+--------------------+--------------------+--------------------+\n",
      "|               Model                |   Accuracy Score   |      F1 Score      |  Confusion Matrix  |\n",
      "+------------------------------------+--------------------+--------------------+--------------------+\n",
      "| Linear SVM (C=1000, gamma = auto)  | 0.9809342230695901 | 0.9808744005867673 | [[ 971    0    9]  |\n",
      "|                                    |                    |                    |  [   1 1127    7]  |\n",
      "|                                    |                    |                    |  [  24   19  989]] |\n",
      "|                                    |                    |                    |                    |\n",
      "| Linear SVM (C=1000, gamma = scale) | 0.9809342230695901 | 0.9808744005867673 | [[ 971    0    9]  |\n",
      "|                                    |                    |                    |  [   1 1127    7]  |\n",
      "|                                    |                    |                    |  [  24   19  989]] |\n",
      "|                                    |                    |                    |                    |\n",
      "|  Linear SVM (C=100, gamma = auto)  | 0.9809342230695901 | 0.9808744005867673 | [[ 971    0    9]  |\n",
      "|                                    |                    |                    |  [   1 1127    7]  |\n",
      "|                                    |                    |                    |  [  24   19  989]] |\n",
      "|                                    |                    |                    |                    |\n",
      "| Linear SVM (C=100, gamma = scale)  | 0.9809342230695901 | 0.9808744005867673 | [[ 971    0    9]  |\n",
      "|                                    |                    |                    |  [   1 1127    7]  |\n",
      "|                                    |                    |                    |  [  24   19  989]] |\n",
      "|                                    |                    |                    |                    |\n",
      "|  Linear SVM (C=10, gamma = auto)   | 0.9809342230695901 | 0.9808744005867673 | [[ 971    0    9]  |\n",
      "|                                    |                    |                    |  [   1 1127    7]  |\n",
      "|                                    |                    |                    |  [  24   19  989]] |\n",
      "|                                    |                    |                    |                    |\n",
      "|  Linear SVM (C=10, gamma = scale)  | 0.9809342230695901 | 0.9808744005867673 | [[ 971    0    9]  |\n",
      "|                                    |                    |                    |  [   1 1127    7]  |\n",
      "|                                    |                    |                    |  [  24   19  989]] |\n",
      "|                                    |                    |                    |                    |\n",
      "|   Linear SVM (C=3, gamma = auto)   | 0.9809342230695901 | 0.9808744005867673 | [[ 971    0    9]  |\n",
      "|                                    |                    |                    |  [   1 1127    7]  |\n",
      "|                                    |                    |                    |  [  24   19  989]] |\n",
      "|                                    |                    |                    |                    |\n",
      "|  Linear SVM (C=3, gamma = scale)   | 0.9809342230695901 | 0.9808744005867673 | [[ 971    0    9]  |\n",
      "|                                    |                    |                    |  [   1 1127    7]  |\n",
      "|                                    |                    |                    |  [  24   19  989]] |\n",
      "|                                    |                    |                    |                    |\n",
      "|          SVM Poly Kernel           | 0.9939625039720369 | 0.9939604576985398 | [[ 976    2    2]  |\n",
      "|                                    |                    |                    |  [   0 1131    4]  |\n",
      "|                                    |                    |                    |  [   8    3 1021]] |\n",
      "|                                    |                    |                    |                    |\n",
      "|                                    |                    |                    |                    |\n",
      "|           SVM RBF Kernel           | 0.9955513187162377 | 0.995550497553937  | [[ 977    1    2]  |\n",
      "|                                    |                    |                    |  [   0 1132    3]  |\n",
      "|                                    |                    |                    |  [   6    2 1024]] |\n",
      "|                                    |                    |                    |                    |\n",
      "|         SVM Sigmoid Kernel         | 0.9380362249761678 | 0.9379243378451088 | [[ 932    1   47]  |\n",
      "|                                    |                    |                    |  [   1 1092   42]  |\n",
      "|                                    |                    |                    |  [  55   49  928]] |\n",
      "+------------------------------------+--------------------+--------------------+--------------------+\n"
     ]
    }
   ],
   "source": [
    "from prettytable import PrettyTable\n",
    "\n",
    "l = [\n",
    "    [\"Linear SVM (C=1000, gamma = auto)\", accuracy_score_SK_linear_C1000_gamma_auto, f1_score_SK_linear_c1000_auto,confusion_matrix_SK_linear_c1000_auto],\n",
    "    ['','','',''],\n",
    "    [\"Linear SVM (C=1000, gamma = scale)\", accuracy_score_SK_linear_C1000_gamma_scale, f1_score_SK_linear_c1000_scale, confusion_matrix_SK_linear_c1000_scale],\n",
    "    ['','','',''],\n",
    "    [\"Linear SVM (C=100, gamma = auto)\", accuracy_score_SK_linear_C100_gamma_auto, f1_score_SK_linear_c100_auto, confusion_matrix_SK_linear_c100_auto],\n",
    "    ['','','',''],\n",
    "    [\"Linear SVM (C=100, gamma = scale)\", accuracy_score_SK_linear_C100_gamma_scale, f1_score_SK_linear_c100_scale, confusion_matrix_SK_linear_c100_scale],\n",
    "    ['','','',''],\n",
    "    [\"Linear SVM (C=10, gamma = auto)\", accuracy_score_SK_linear_C10_gamma_auto, f1_score_SK_linear_c10_auto, confusion_matrix_SK_linear_c10_auto],\n",
    "    ['','','',''],\n",
    "    [\"Linear SVM (C=10, gamma = scale)\", accuracy_score_SK_linear_C10_gamma_scale, f1_score_SK_linear_c10_scale, confusion_matrix_SK_linear_c10_scale],\n",
    "    ['','','',''],\n",
    "    [\"Linear SVM (C=3, gamma = auto)\", accuracy_score_SK_linear_C3_gamma_auto, f1_score_SK_linear_c3_auto, confusion_matrix_SK_linear_c3_auto],\n",
    "    ['','','',''],\n",
    "    [\"Linear SVM (C=3, gamma = scale)\", accuracy_score_SK_linear_C3_gamma_scale, f1_score_SK_linear_c3_scale, confusion_matrix_SK_linear_c3_scale],\n",
    "    ['','','',''],\n",
    "    \n",
    "    [\"SVM Poly Kernel\", accuracy_score_poly, f1_score_SK_poly, confusion_matrix_SK_poly],\n",
    "    ['','','',''],\n",
    "    ['','','',''],\n",
    "    [\"SVM RBF Kernel\", accuracy_score_rbf, f1_score_SK_rbf, confusion_matrix_SK_rbf],\n",
    "    ['','','',''],\n",
    "    [\"SVM Sigmoid Kernel\", accuracy_score_sigmoid, f1_score_SK_sigmoid, confusion_matrix_SK_sigmoid],\n",
    "]\n",
    "# Heat map, confusion matrix\n",
    "table = PrettyTable(['Model','Accuracy Score', 'F1 Score','Confusion Matrix'])\n",
    "\n",
    "for rec in l:\n",
    "    table.add_row(rec)\n",
    "    \n",
    "print(table)"
   ]
  }
 ],
 "metadata": {
  "kernelspec": {
   "display_name": "Python 3",
   "language": "python",
   "name": "python3"
  },
  "language_info": {
   "codemirror_mode": {
    "name": "ipython",
    "version": 3
   },
   "file_extension": ".py",
   "mimetype": "text/x-python",
   "name": "python",
   "nbconvert_exporter": "python",
   "pygments_lexer": "ipython3",
   "version": "3.8.5"
  }
 },
 "nbformat": 4,
 "nbformat_minor": 4
}
