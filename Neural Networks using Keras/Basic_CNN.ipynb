{
  "nbformat": 4,
  "nbformat_minor": 0,
  "metadata": {
    "colab": {
      "name": "SMAI_A3_Q1.ipynb",
      "provenance": [],
      "collapsed_sections": []
    },
    "kernelspec": {
      "name": "python3",
      "display_name": "Python 3"
    },
    "language_info": {
      "name": "python"
    }
  },
  "cells": [
    {
      "cell_type": "markdown",
      "metadata": {
        "id": "-WcS0P88JXew"
      },
      "source": [
        "## **CNN**\n",
        "\n"
      ]
    },
    {
      "cell_type": "code",
      "metadata": {
        "id": "8zyb_xDqvPjZ"
      },
      "source": [
        "import tensorflow as tf\n",
        "\n",
        "from tensorflow.keras import datasets, layers, models, losses, optimizers\n",
        "import matplotlib.pyplot as plt"
      ],
      "execution_count": 7,
      "outputs": []
    },
    {
      "cell_type": "code",
      "metadata": {
        "colab": {
          "base_uri": "https://localhost:8080/"
        },
        "id": "8euHqECt566I",
        "outputId": "40ad0efe-bc1e-4642-ca45-df8926e7232b"
      },
      "source": [
        "(train_images, train_labels), (test_images, test_labels) = datasets.cifar10.load_data()\n",
        "\n",
        "train_images, test_images = train_images / 255.0, test_images / 255.0"
      ],
      "execution_count": 2,
      "outputs": [
        {
          "output_type": "stream",
          "text": [
            "Downloading data from https://www.cs.toronto.edu/~kriz/cifar-10-python.tar.gz\n",
            "170500096/170498071 [==============================] - 2s 0us/step\n"
          ],
          "name": "stdout"
        }
      ]
    },
    {
      "cell_type": "code",
      "metadata": {
        "colab": {
          "base_uri": "https://localhost:8080/"
        },
        "id": "X_EHjyxk6I9Q",
        "outputId": "ec2db9e1-5d5c-48b7-f68c-05090d6221ac"
      },
      "source": [
        "train_images.shape, test_images.shape, train_labels.shape"
      ],
      "execution_count": 3,
      "outputs": [
        {
          "output_type": "execute_result",
          "data": {
            "text/plain": [
              "((50000, 32, 32, 3), (10000, 32, 32, 3), (50000, 1))"
            ]
          },
          "metadata": {
            "tags": []
          },
          "execution_count": 3
        }
      ]
    },
    {
      "cell_type": "markdown",
      "metadata": {
        "id": "EP8iT_NlV1nW"
      },
      "source": [
        "### **Architecture as given in the figure**"
      ]
    },
    {
      "cell_type": "code",
      "metadata": {
        "colab": {
          "base_uri": "https://localhost:8080/"
        },
        "id": "CgQiMx5l6un3",
        "outputId": "63a229af-b697-41a9-bad7-a5c42b4db721"
      },
      "source": [
        "model = models.Sequential()\n",
        "\n",
        "model.add(layers.ZeroPadding2D(padding=(1, 1), input_shape=(32, 32, 3)))\n",
        "model.add(layers.Conv2D(32, (3, 3), activation='relu'))\n",
        "model.add(layers.BatchNormalization())\n",
        "model.add(layers.MaxPooling2D((2, 2)))\n",
        "model.add(layers.Flatten())\n",
        "model.add(layers.Dense(10, activation='relu'))\n",
        "\n",
        "model.summary()"
      ],
      "execution_count": 22,
      "outputs": [
        {
          "output_type": "stream",
          "text": [
            "Model: \"sequential_11\"\n",
            "_________________________________________________________________\n",
            "Layer (type)                 Output Shape              Param #   \n",
            "=================================================================\n",
            "zero_padding2d_11 (ZeroPaddi (None, 34, 34, 3)         0         \n",
            "_________________________________________________________________\n",
            "conv2d_11 (Conv2D)           (None, 32, 32, 32)        896       \n",
            "_________________________________________________________________\n",
            "batch_normalization_10 (Batc (None, 32, 32, 32)        128       \n",
            "_________________________________________________________________\n",
            "max_pooling2d_11 (MaxPooling (None, 16, 16, 32)        0         \n",
            "_________________________________________________________________\n",
            "flatten_11 (Flatten)         (None, 8192)              0         \n",
            "_________________________________________________________________\n",
            "dense_11 (Dense)             (None, 10)                81930     \n",
            "=================================================================\n",
            "Total params: 82,954\n",
            "Trainable params: 82,890\n",
            "Non-trainable params: 64\n",
            "_________________________________________________________________\n"
          ],
          "name": "stdout"
        }
      ]
    },
    {
      "cell_type": "code",
      "metadata": {
        "colab": {
          "base_uri": "https://localhost:8080/"
        },
        "id": "Fjb0uTIDyk9b",
        "outputId": "965ff92b-71e8-4f2b-d299-7bbe59bb90aa"
      },
      "source": [
        "opt = optimizers.SGD(learning_rate=0.02)\n",
        "model.compile(optimizer=opt, loss=losses.SparseCategoricalCrossentropy(from_logits=True), metrics=['accuracy'])\n",
        "\n",
        "history = model.fit(train_images, train_labels, epochs=10, validation_data=(test_images, test_labels))"
      ],
      "execution_count": 23,
      "outputs": [
        {
          "output_type": "stream",
          "text": [
            "Epoch 1/10\n",
            "1563/1563 [==============================] - 56s 36ms/step - loss: 1.8682 - accuracy: 0.3654 - val_loss: 1.4737 - val_accuracy: 0.4910\n",
            "Epoch 2/10\n",
            "1563/1563 [==============================] - 54s 35ms/step - loss: 1.1930 - accuracy: 0.5863 - val_loss: 1.5616 - val_accuracy: 0.4840\n",
            "Epoch 3/10\n",
            "1563/1563 [==============================] - 54s 34ms/step - loss: 1.0636 - accuracy: 0.6360 - val_loss: 1.3570 - val_accuracy: 0.5512\n",
            "Epoch 4/10\n",
            "1563/1563 [==============================] - 54s 34ms/step - loss: 0.9965 - accuracy: 0.6562 - val_loss: 1.1524 - val_accuracy: 0.6034\n",
            "Epoch 5/10\n",
            "1563/1563 [==============================] - 54s 35ms/step - loss: 0.9390 - accuracy: 0.6794 - val_loss: 1.8214 - val_accuracy: 0.4501\n",
            "Epoch 6/10\n",
            "1563/1563 [==============================] - 55s 35ms/step - loss: 0.9025 - accuracy: 0.6900 - val_loss: 1.6083 - val_accuracy: 0.4949\n",
            "Epoch 7/10\n",
            "1563/1563 [==============================] - 54s 35ms/step - loss: 0.8621 - accuracy: 0.7060 - val_loss: 1.2760 - val_accuracy: 0.5810\n",
            "Epoch 8/10\n",
            "1563/1563 [==============================] - 55s 35ms/step - loss: 0.8304 - accuracy: 0.7141 - val_loss: 1.5220 - val_accuracy: 0.5196\n",
            "Epoch 9/10\n",
            "1563/1563 [==============================] - 55s 35ms/step - loss: 0.8090 - accuracy: 0.7203 - val_loss: 1.2351 - val_accuracy: 0.5943\n",
            "Epoch 10/10\n",
            "1563/1563 [==============================] - 54s 35ms/step - loss: 0.7887 - accuracy: 0.7303 - val_loss: 1.1817 - val_accuracy: 0.6120\n"
          ],
          "name": "stdout"
        }
      ]
    },
    {
      "cell_type": "markdown",
      "metadata": {
        "id": "AnsZp3jhjw-G"
      },
      "source": [
        "### **(a) No Batch Normalization**"
      ]
    },
    {
      "cell_type": "code",
      "metadata": {
        "colab": {
          "base_uri": "https://localhost:8080/"
        },
        "id": "vidN3DuFXiYz",
        "outputId": "377cebe2-8cba-4376-a063-92c2a63fc51d"
      },
      "source": [
        "model2 = models.Sequential()\n",
        "\n",
        "model2.add(layers.ZeroPadding2D(padding=(1, 1), input_shape=(32, 32, 3)))\n",
        "model2.add(layers.Conv2D(32, (3, 3), activation='relu'))\n",
        "model2.add(layers.MaxPooling2D((2, 2)))\n",
        "model2.add(layers.Flatten())\n",
        "model2.add(layers.Dense(10, activation='relu'))\n",
        "\n",
        "model2.summary()"
      ],
      "execution_count": 24,
      "outputs": [
        {
          "output_type": "stream",
          "text": [
            "Model: \"sequential_12\"\n",
            "_________________________________________________________________\n",
            "Layer (type)                 Output Shape              Param #   \n",
            "=================================================================\n",
            "zero_padding2d_12 (ZeroPaddi (None, 34, 34, 3)         0         \n",
            "_________________________________________________________________\n",
            "conv2d_12 (Conv2D)           (None, 32, 32, 32)        896       \n",
            "_________________________________________________________________\n",
            "max_pooling2d_12 (MaxPooling (None, 16, 16, 32)        0         \n",
            "_________________________________________________________________\n",
            "flatten_12 (Flatten)         (None, 8192)              0         \n",
            "_________________________________________________________________\n",
            "dense_12 (Dense)             (None, 10)                81930     \n",
            "=================================================================\n",
            "Total params: 82,826\n",
            "Trainable params: 82,826\n",
            "Non-trainable params: 0\n",
            "_________________________________________________________________\n"
          ],
          "name": "stdout"
        }
      ]
    },
    {
      "cell_type": "code",
      "metadata": {
        "colab": {
          "base_uri": "https://localhost:8080/"
        },
        "id": "61sM6S5qj_r4",
        "outputId": "e9f952ff-1d42-4997-fef6-3c9bd3c2bf96"
      },
      "source": [
        "opt = optimizers.SGD(learning_rate=0.02)\n",
        "model2.compile(optimizer=opt, loss=losses.SparseCategoricalCrossentropy(from_logits=True), metrics=['accuracy'])\n",
        "\n",
        "history2 = model2.fit(train_images, train_labels, epochs=10, validation_data=(test_images, test_labels))"
      ],
      "execution_count": 25,
      "outputs": [
        {
          "output_type": "stream",
          "text": [
            "Epoch 1/10\n",
            "1563/1563 [==============================] - 37s 24ms/step - loss: 2.2158 - accuracy: 0.1931 - val_loss: 1.9231 - val_accuracy: 0.3255\n",
            "Epoch 2/10\n",
            "1563/1563 [==============================] - 37s 23ms/step - loss: 1.8628 - accuracy: 0.3475 - val_loss: 1.6917 - val_accuracy: 0.4263\n",
            "Epoch 3/10\n",
            "1563/1563 [==============================] - 36s 23ms/step - loss: 1.6175 - accuracy: 0.4491 - val_loss: 1.4907 - val_accuracy: 0.4859\n",
            "Epoch 4/10\n",
            "1563/1563 [==============================] - 36s 23ms/step - loss: 1.4628 - accuracy: 0.4995 - val_loss: 1.3809 - val_accuracy: 0.5027\n",
            "Epoch 5/10\n",
            "1563/1563 [==============================] - 36s 23ms/step - loss: 1.2853 - accuracy: 0.5528 - val_loss: 1.3991 - val_accuracy: 0.5126\n",
            "Epoch 6/10\n",
            "1563/1563 [==============================] - 36s 23ms/step - loss: 1.2266 - accuracy: 0.5715 - val_loss: 1.3071 - val_accuracy: 0.5271\n",
            "Epoch 7/10\n",
            "1563/1563 [==============================] - 37s 23ms/step - loss: 1.1810 - accuracy: 0.5917 - val_loss: 1.2806 - val_accuracy: 0.5580\n",
            "Epoch 8/10\n",
            "1563/1563 [==============================] - 36s 23ms/step - loss: 1.1707 - accuracy: 0.5912 - val_loss: 1.2010 - val_accuracy: 0.5797\n",
            "Epoch 9/10\n",
            "1563/1563 [==============================] - 36s 23ms/step - loss: 1.1310 - accuracy: 0.6076 - val_loss: 1.1818 - val_accuracy: 0.5868\n",
            "Epoch 10/10\n",
            "1563/1563 [==============================] - 37s 23ms/step - loss: 1.0926 - accuracy: 0.6197 - val_loss: 1.2397 - val_accuracy: 0.5568\n"
          ],
          "name": "stdout"
        }
      ]
    },
    {
      "cell_type": "markdown",
      "metadata": {
        "id": "z61aCz8m3BQ6"
      },
      "source": [
        "### **(b) Two Dense Layers**"
      ]
    },
    {
      "cell_type": "code",
      "metadata": {
        "colab": {
          "base_uri": "https://localhost:8080/"
        },
        "id": "KY4XB0Mp1iby",
        "outputId": "cc3607a3-b826-445e-aae1-b78f697606d5"
      },
      "source": [
        "model3 = models.Sequential()\n",
        "\n",
        "model3.add(layers.ZeroPadding2D(padding=(1, 1), input_shape=(32, 32, 3)))\n",
        "model3.add(layers.Conv2D(32, (3, 3), activation='relu'))\n",
        "model.add(layers.BatchNormalization())\n",
        "model3.add(layers.MaxPooling2D((2, 2)))\n",
        "model3.add(layers.Flatten())\n",
        "model3.add(layers.Dense(64, activation='relu'))\n",
        "model3.add(layers.Dense(10))\n",
        "\n",
        "model3.summary()"
      ],
      "execution_count": 26,
      "outputs": [
        {
          "output_type": "stream",
          "text": [
            "Model: \"sequential_13\"\n",
            "_________________________________________________________________\n",
            "Layer (type)                 Output Shape              Param #   \n",
            "=================================================================\n",
            "zero_padding2d_13 (ZeroPaddi (None, 34, 34, 3)         0         \n",
            "_________________________________________________________________\n",
            "conv2d_13 (Conv2D)           (None, 32, 32, 32)        896       \n",
            "_________________________________________________________________\n",
            "max_pooling2d_13 (MaxPooling (None, 16, 16, 32)        0         \n",
            "_________________________________________________________________\n",
            "flatten_13 (Flatten)         (None, 8192)              0         \n",
            "_________________________________________________________________\n",
            "dense_13 (Dense)             (None, 64)                524352    \n",
            "_________________________________________________________________\n",
            "dense_14 (Dense)             (None, 10)                650       \n",
            "=================================================================\n",
            "Total params: 525,898\n",
            "Trainable params: 525,898\n",
            "Non-trainable params: 0\n",
            "_________________________________________________________________\n"
          ],
          "name": "stdout"
        }
      ]
    },
    {
      "cell_type": "code",
      "metadata": {
        "colab": {
          "base_uri": "https://localhost:8080/"
        },
        "id": "snoNq0yy3iu8",
        "outputId": "876fe916-a227-4600-9841-2883b434c3c9"
      },
      "source": [
        "opt = optimizers.SGD(learning_rate=0.02)\n",
        "model3.compile(optimizer=opt, loss=losses.SparseCategoricalCrossentropy(from_logits=True), metrics=['accuracy'])\n",
        "\n",
        "history3 = model3.fit(train_images, train_labels, epochs=10, validation_data=(test_images, test_labels))"
      ],
      "execution_count": 27,
      "outputs": [
        {
          "output_type": "stream",
          "text": [
            "Epoch 1/10\n",
            "1563/1563 [==============================] - 42s 27ms/step - loss: 1.9938 - accuracy: 0.2753 - val_loss: 1.5201 - val_accuracy: 0.4640\n",
            "Epoch 2/10\n",
            "1563/1563 [==============================] - 42s 27ms/step - loss: 1.4905 - accuracy: 0.4701 - val_loss: 1.4075 - val_accuracy: 0.4867\n",
            "Epoch 3/10\n",
            "1563/1563 [==============================] - 42s 27ms/step - loss: 1.2944 - accuracy: 0.5424 - val_loss: 1.4543 - val_accuracy: 0.4987\n",
            "Epoch 4/10\n",
            "1563/1563 [==============================] - 41s 26ms/step - loss: 1.1885 - accuracy: 0.5854 - val_loss: 1.1744 - val_accuracy: 0.5849\n",
            "Epoch 5/10\n",
            "1563/1563 [==============================] - 41s 26ms/step - loss: 1.1229 - accuracy: 0.6054 - val_loss: 1.1364 - val_accuracy: 0.6003\n",
            "Epoch 6/10\n",
            "1563/1563 [==============================] - 41s 26ms/step - loss: 1.0283 - accuracy: 0.6404 - val_loss: 1.1091 - val_accuracy: 0.6031\n",
            "Epoch 7/10\n",
            "1563/1563 [==============================] - 41s 26ms/step - loss: 0.9708 - accuracy: 0.6596 - val_loss: 1.2234 - val_accuracy: 0.5770\n",
            "Epoch 8/10\n",
            "1563/1563 [==============================] - 42s 27ms/step - loss: 0.9196 - accuracy: 0.6825 - val_loss: 1.0803 - val_accuracy: 0.6234\n",
            "Epoch 9/10\n",
            "1563/1563 [==============================] - 41s 27ms/step - loss: 0.8813 - accuracy: 0.6912 - val_loss: 1.1814 - val_accuracy: 0.6007\n",
            "Epoch 10/10\n",
            "1563/1563 [==============================] - 41s 26ms/step - loss: 0.8287 - accuracy: 0.7085 - val_loss: 1.1771 - val_accuracy: 0.6030\n"
          ],
          "name": "stdout"
        }
      ]
    },
    {
      "cell_type": "markdown",
      "metadata": {
        "id": "nJXLlc9-5-OF"
      },
      "source": [
        "### **(c) 2 Blocks of Conv2D -> BatchNorm2D -> MaxPooling2D**"
      ]
    },
    {
      "cell_type": "code",
      "metadata": {
        "colab": {
          "base_uri": "https://localhost:8080/"
        },
        "id": "mwXfDYHs3rvV",
        "outputId": "5391627a-4eb2-4589-cc8b-155ec2df0e25"
      },
      "source": [
        "model4 = models.Sequential()\n",
        "\n",
        "model4.add(layers.ZeroPadding2D(padding=(1, 1), input_shape=(32, 32, 3)))\n",
        "\n",
        "model4.add(layers.Conv2D(32, (3, 3), activation='relu'))\n",
        "model4.add(layers.BatchNormalization())\n",
        "model4.add(layers.MaxPooling2D((2, 2)))\n",
        "\n",
        "model4.add(layers.Conv2D(64, (3, 3), activation='relu', padding = 'same'))\n",
        "model4.add(layers.BatchNormalization())\n",
        "model4.add(layers.MaxPooling2D((2, 2)))\n",
        "\n",
        "model4.add(layers.Flatten())\n",
        "model4.add(layers.Dense(10, activation='relu'))\n",
        "\n",
        "model4.summary()"
      ],
      "execution_count": 38,
      "outputs": [
        {
          "output_type": "stream",
          "text": [
            "Model: \"sequential_21\"\n",
            "_________________________________________________________________\n",
            "Layer (type)                 Output Shape              Param #   \n",
            "=================================================================\n",
            "zero_padding2d_21 (ZeroPaddi (None, 34, 34, 3)         0         \n",
            "_________________________________________________________________\n",
            "conv2d_30 (Conv2D)           (None, 32, 32, 32)        896       \n",
            "_________________________________________________________________\n",
            "batch_normalization_27 (Batc (None, 32, 32, 32)        128       \n",
            "_________________________________________________________________\n",
            "max_pooling2d_29 (MaxPooling (None, 16, 16, 32)        0         \n",
            "_________________________________________________________________\n",
            "conv2d_31 (Conv2D)           (None, 16, 16, 64)        18496     \n",
            "_________________________________________________________________\n",
            "batch_normalization_28 (Batc (None, 16, 16, 64)        256       \n",
            "_________________________________________________________________\n",
            "max_pooling2d_30 (MaxPooling (None, 8, 8, 64)          0         \n",
            "_________________________________________________________________\n",
            "flatten_20 (Flatten)         (None, 4096)              0         \n",
            "_________________________________________________________________\n",
            "dense_21 (Dense)             (None, 10)                40970     \n",
            "=================================================================\n",
            "Total params: 60,746\n",
            "Trainable params: 60,554\n",
            "Non-trainable params: 192\n",
            "_________________________________________________________________\n"
          ],
          "name": "stdout"
        }
      ]
    },
    {
      "cell_type": "code",
      "metadata": {
        "colab": {
          "base_uri": "https://localhost:8080/"
        },
        "id": "yvUmVm_m6bPW",
        "outputId": "137d2504-eee9-4320-8966-406b536e7e8d"
      },
      "source": [
        "opt = optimizers.SGD(learning_rate=0.02)\n",
        "model4.compile(optimizer=opt, loss=losses.SparseCategoricalCrossentropy(from_logits=True), metrics=['accuracy'])\n",
        "\n",
        "history4 = model4.fit(train_images, train_labels, epochs=10, validation_data=(test_images, test_labels))"
      ],
      "execution_count": 32,
      "outputs": [
        {
          "output_type": "stream",
          "text": [
            "Epoch 1/10\n",
            "1563/1563 [==============================] - 100s 64ms/step - loss: 2.0479 - accuracy: 0.2980 - val_loss: 1.7398 - val_accuracy: 0.4634\n",
            "Epoch 2/10\n",
            "1563/1563 [==============================] - 99s 63ms/step - loss: 1.3227 - accuracy: 0.5811 - val_loss: 1.3085 - val_accuracy: 0.5739\n",
            "Epoch 3/10\n",
            "1563/1563 [==============================] - 98s 63ms/step - loss: 1.0098 - accuracy: 0.6642 - val_loss: 1.0658 - val_accuracy: 0.6503\n",
            "Epoch 4/10\n",
            "1563/1563 [==============================] - 98s 63ms/step - loss: 0.8708 - accuracy: 0.7049 - val_loss: 1.0591 - val_accuracy: 0.6390\n",
            "Epoch 5/10\n",
            "1563/1563 [==============================] - 98s 63ms/step - loss: 0.7910 - accuracy: 0.7299 - val_loss: 1.0576 - val_accuracy: 0.6415\n",
            "Epoch 6/10\n",
            "1563/1563 [==============================] - 99s 63ms/step - loss: 0.7475 - accuracy: 0.7469 - val_loss: 1.1200 - val_accuracy: 0.6370\n",
            "Epoch 7/10\n",
            "1563/1563 [==============================] - 98s 63ms/step - loss: 0.7037 - accuracy: 0.7594 - val_loss: 0.9878 - val_accuracy: 0.6666\n",
            "Epoch 8/10\n",
            "1563/1563 [==============================] - 101s 64ms/step - loss: 0.6678 - accuracy: 0.7739 - val_loss: 1.1170 - val_accuracy: 0.6444\n",
            "Epoch 9/10\n",
            "1563/1563 [==============================] - 99s 63ms/step - loss: 0.6356 - accuracy: 0.7849 - val_loss: 1.0158 - val_accuracy: 0.6723\n",
            "Epoch 10/10\n",
            "1563/1563 [==============================] - 98s 63ms/step - loss: 0.6162 - accuracy: 0.7913 - val_loss: 1.2459 - val_accuracy: 0.6059\n"
          ],
          "name": "stdout"
        }
      ]
    },
    {
      "cell_type": "markdown",
      "metadata": {
        "id": "ymr8CoQ7_QJd"
      },
      "source": [
        "### **(d) 3 Blocks of Conv2D -> BatchNorm2D -> MaxPooling2D**"
      ]
    },
    {
      "cell_type": "code",
      "metadata": {
        "colab": {
          "base_uri": "https://localhost:8080/"
        },
        "id": "TC1Vemyt7B7a",
        "outputId": "77710eb1-d1e1-4ca3-c666-611b9b8ec2de"
      },
      "source": [
        "model5 = models.Sequential()\n",
        "\n",
        "model5.add(layers.ZeroPadding2D(padding=(1, 1), input_shape=(32, 32, 3)))\n",
        "\n",
        "model5.add(layers.Conv2D(32, (3, 3), activation='relu'))\n",
        "model5.add(layers.BatchNormalization())\n",
        "model5.add(layers.MaxPooling2D((2, 2)))\n",
        "\n",
        "model5.add(layers.Conv2D(64, (3, 3), activation='relu', padding = 'same'))\n",
        "model5.add(layers.BatchNormalization())\n",
        "model5.add(layers.MaxPooling2D((2, 2)))\n",
        "\n",
        "model5.add(layers.Conv2D(32, (3, 3), activation='relu', padding = 'same'))\n",
        "model5.add(layers.BatchNormalization())\n",
        "model5.add(layers.MaxPooling2D((2, 2)))\n",
        "\n",
        "model5.add(layers.Flatten())\n",
        "model5.add(layers.Dense(10, activation='relu'))\n",
        "\n",
        "model5.summary()"
      ],
      "execution_count": 35,
      "outputs": [
        {
          "output_type": "stream",
          "text": [
            "Model: \"sequential_19\"\n",
            "_________________________________________________________________\n",
            "Layer (type)                 Output Shape              Param #   \n",
            "=================================================================\n",
            "zero_padding2d_19 (ZeroPaddi (None, 34, 34, 3)         0         \n",
            "_________________________________________________________________\n",
            "conv2d_25 (Conv2D)           (None, 32, 32, 32)        896       \n",
            "_________________________________________________________________\n",
            "batch_normalization_22 (Batc (None, 32, 32, 32)        128       \n",
            "_________________________________________________________________\n",
            "max_pooling2d_24 (MaxPooling (None, 16, 16, 32)        0         \n",
            "_________________________________________________________________\n",
            "conv2d_26 (Conv2D)           (None, 16, 16, 64)        18496     \n",
            "_________________________________________________________________\n",
            "batch_normalization_23 (Batc (None, 16, 16, 64)        256       \n",
            "_________________________________________________________________\n",
            "max_pooling2d_25 (MaxPooling (None, 8, 8, 64)          0         \n",
            "_________________________________________________________________\n",
            "conv2d_27 (Conv2D)           (None, 8, 8, 32)          18464     \n",
            "_________________________________________________________________\n",
            "batch_normalization_24 (Batc (None, 8, 8, 32)          128       \n",
            "_________________________________________________________________\n",
            "max_pooling2d_26 (MaxPooling (None, 4, 4, 32)          0         \n",
            "_________________________________________________________________\n",
            "flatten_18 (Flatten)         (None, 512)               0         \n",
            "_________________________________________________________________\n",
            "dense_19 (Dense)             (None, 10)                5130      \n",
            "=================================================================\n",
            "Total params: 43,498\n",
            "Trainable params: 43,242\n",
            "Non-trainable params: 256\n",
            "_________________________________________________________________\n"
          ],
          "name": "stdout"
        }
      ]
    },
    {
      "cell_type": "code",
      "metadata": {
        "colab": {
          "base_uri": "https://localhost:8080/"
        },
        "id": "geI_yPTi_bJW",
        "outputId": "bfee7c61-60a2-41f0-8cfe-6eecce169066"
      },
      "source": [
        "opt = optimizers.SGD(learning_rate=0.02)\n",
        "model5.compile(optimizer=opt, loss=losses.SparseCategoricalCrossentropy(from_logits=True), metrics=['accuracy'])\n",
        "\n",
        "history5 = model5.fit(train_images, train_labels, epochs=10, validation_data=(test_images, test_labels))"
      ],
      "execution_count": 36,
      "outputs": [
        {
          "output_type": "stream",
          "text": [
            "Epoch 1/10\n",
            "1563/1563 [==============================] - 128s 82ms/step - loss: 1.8676 - accuracy: 0.3598 - val_loss: 1.6905 - val_accuracy: 0.4623\n",
            "Epoch 2/10\n",
            "1563/1563 [==============================] - 125s 80ms/step - loss: 1.1492 - accuracy: 0.6024 - val_loss: 1.2813 - val_accuracy: 0.5679\n",
            "Epoch 3/10\n",
            "1563/1563 [==============================] - 123s 79ms/step - loss: 0.9565 - accuracy: 0.6677 - val_loss: 1.3648 - val_accuracy: 0.5635\n",
            "Epoch 4/10\n",
            "1563/1563 [==============================] - 125s 80ms/step - loss: 0.8663 - accuracy: 0.7021 - val_loss: 0.9969 - val_accuracy: 0.6654\n",
            "Epoch 5/10\n",
            "1563/1563 [==============================] - 125s 80ms/step - loss: 0.7985 - accuracy: 0.7247 - val_loss: 1.2450 - val_accuracy: 0.5935\n",
            "Epoch 6/10\n",
            "1563/1563 [==============================] - 127s 81ms/step - loss: 0.7512 - accuracy: 0.7423 - val_loss: 1.0168 - val_accuracy: 0.6444\n",
            "Epoch 7/10\n",
            "1563/1563 [==============================] - 125s 80ms/step - loss: 0.7178 - accuracy: 0.7502 - val_loss: 1.1599 - val_accuracy: 0.6259\n",
            "Epoch 8/10\n",
            "1563/1563 [==============================] - 124s 80ms/step - loss: 0.6792 - accuracy: 0.7664 - val_loss: 1.0053 - val_accuracy: 0.6653\n",
            "Epoch 9/10\n",
            "1563/1563 [==============================] - 125s 80ms/step - loss: 0.6481 - accuracy: 0.7783 - val_loss: 1.3584 - val_accuracy: 0.5865\n",
            "Epoch 10/10\n",
            "1563/1563 [==============================] - 124s 80ms/step - loss: 0.6192 - accuracy: 0.7845 - val_loss: 0.9992 - val_accuracy: 0.6707\n"
          ],
          "name": "stdout"
        }
      ]
    },
    {
      "cell_type": "markdown",
      "metadata": {
        "id": "Su5uY1kQJFcm"
      },
      "source": [
        "### **Performances of various models**"
      ]
    },
    {
      "cell_type": "code",
      "metadata": {
        "colab": {
          "base_uri": "https://localhost:8080/"
        },
        "id": "tjqyGLkaAErw",
        "outputId": "6b28b291-5549-45ec-d96c-239440d5a917"
      },
      "source": [
        "from prettytable import PrettyTable\n",
        "l = [[\"Same as Figure\", history.history['accuracy'][-1], history.history['val_accuracy'][-1], history.history['loss'][-1], history.history['val_loss'][-1]],\n",
        "     [\"No Batch Norm.\", history2.history['accuracy'][-1], history2.history['val_accuracy'][-1], history2.history['loss'][-1], history2.history['val_loss'][-1]],\n",
        "     [\"Two Dense Layers\", history3.history['accuracy'][-1], history3.history['val_accuracy'][-1], history3.history['loss'][-1], history3.history['val_loss'][-1]],\n",
        "     [\"2 Blocks of Conv2d...\", history4.history['accuracy'][-1], history4.history['val_accuracy'][-1], history4.history['loss'][-1], history4.history['val_loss'][-1]],\n",
        "     [\"3 Blocks of Conv2d...\", history5.history['accuracy'][-1], history5.history['val_accuracy'][-1], history5.history['loss'][-1], history5.history['val_loss'][-1]]\n",
        "     ]\n",
        "\n",
        "table = PrettyTable(['Model','Train Accuracy', 'Test Accuracy', 'Train loss', 'Test loss'])\n",
        "for rec in l:\n",
        "    table.add_row(rec)\n",
        "print(table)"
      ],
      "execution_count": 44,
      "outputs": [
        {
          "output_type": "stream",
          "text": [
            "+-----------------------+--------------------+--------------------+--------------------+--------------------+\n",
            "|         Model         |   Train Accuracy   |   Test Accuracy    |     Train loss     |     Test loss      |\n",
            "+-----------------------+--------------------+--------------------+--------------------+--------------------+\n",
            "|     Same as Figure    | 0.7214800119400024 | 0.6119999885559082 | 0.8108803033828735 | 1.1816813945770264 |\n",
            "|     No Batch Norm.    | 0.6186599731445312 | 0.5568000078201294 | 1.098501205444336  | 1.239728569984436  |\n",
            "|    Two Dense Layers   | 0.7057399749755859 | 0.6029999852180481 | 0.8413252830505371 | 1.177137851715088  |\n",
            "| 2 Blocks of Conv2d... | 0.7885000109672546 | 0.5666999816894531 | 0.6242680549621582 | 1.406472086906433  |\n",
            "| 3 Blocks of Conv2d... | 0.7796199917793274 | 0.6707000136375427 | 0.6326614618301392 | 0.9992107152938843 |\n",
            "+-----------------------+--------------------+--------------------+--------------------+--------------------+\n"
          ],
          "name": "stdout"
        }
      ]
    },
    {
      "cell_type": "markdown",
      "metadata": {
        "id": "cBuvqbpTLCNO"
      },
      "source": [
        "Best model comes out to be the last one. i.e. 3 Blocks of Conv2D -> BatchNorm2D -> MaxPooling2D"
      ]
    },
    {
      "cell_type": "markdown",
      "metadata": {
        "id": "2kXCnWf1LbX4"
      },
      "source": [
        "**Accuracy vs Epochs for the best model**"
      ]
    },
    {
      "cell_type": "code",
      "metadata": {
        "colab": {
          "base_uri": "https://localhost:8080/",
          "height": 300
        },
        "id": "tC-uoaCbJW9f",
        "outputId": "200a78f5-bd3f-468e-ba14-52c035503afa"
      },
      "source": [
        "plt.plot(history5.history['accuracy'], label='Train accuracy')\n",
        "plt.plot(history5.history['val_accuracy'], label = 'Test accuracy')\n",
        "plt.xlabel('Epoch')\n",
        "plt.ylabel('Accuracy')\n",
        "plt.ylim([0.4, 1])\n",
        "plt.legend(loc='lower right')"
      ],
      "execution_count": 48,
      "outputs": [
        {
          "output_type": "execute_result",
          "data": {
            "text/plain": [
              "<matplotlib.legend.Legend at 0x7f9e4182a210>"
            ]
          },
          "metadata": {
            "tags": []
          },
          "execution_count": 48
        },
        {
          "output_type": "display_data",
          "data": {
            "image/png": "[encoded data removed]",
            "text/plain": [
              "<Figure size 432x288 with 1 Axes>"
            ]
          },
          "metadata": {
            "tags": [],
            "needs_background": "light"
          }
        }
      ]
    }
  ]
}